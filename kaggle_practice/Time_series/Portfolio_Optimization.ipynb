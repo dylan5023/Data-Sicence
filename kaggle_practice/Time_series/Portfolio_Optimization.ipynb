{
 "cells": [
  {
   "cell_type": "markdown",
   "metadata": {},
   "source": [
    "# Portfolio Optimization"
   ]
  },
  {
   "cell_type": "code",
   "execution_count": 1,
   "metadata": {
    "colab": {},
    "colab_type": "code",
    "id": "7oLPSiZtc2JB"
   },
   "outputs": [],
   "source": [
    "import pandas as pd\n",
    "import numpy as np\n",
    "import yfinance as yf\n",
    "import matplotlib.pyplot as plt\n",
    "from scipy.optimize import minimize \n",
    "%matplotlib inline"
   ]
  },
  {
   "cell_type": "code",
   "execution_count": 3,
   "metadata": {
    "colab": {},
    "colab_type": "code",
    "id": "WYC0M3TWc2JI"
   },
   "outputs": [],
   "source": [
    "Tech_KR =['005930.KS','000660.KS','035420.KS', '035720.KS' ] #Samsung, SK hynix, Naver, Kakao  \n",
    "\n",
    "def get_price(companies): \n",
    "    df=pd.DataFrame()\n",
    "    for company in companies:\n",
    "        df[company]=yf.Ticker(company).history(start='2018-04-01', end='2020-03-31')['Close']\n",
    "    return df\n",
    "\n",
    "def get_div(companies): \n",
    "    df=pd.DataFrame()\n",
    "    for company in companies:\n",
    "        df[company]=yf.Ticker(company).history(start='2018-04-01',end='2020-03-31')['Dividends']\n",
    "    return df  \n",
    "\n",
    "p_KR=get_price(Tech_KR)\n",
    "d_KR=get_div(Tech_KR)\n",
    "\n",
    "p_KR.columns=['SS', 'SKH', 'NVR', 'KKO']\n",
    "d_KR.columns=['SS', 'SKH', 'NVR', 'KKO']"
   ]
  },
  {
   "cell_type": "code",
   "execution_count": 5,
   "metadata": {
    "colab": {
     "base_uri": "https://localhost:8080/",
     "height": 234
    },
    "colab_type": "code",
    "executionInfo": {
     "elapsed": 760,
     "status": "ok",
     "timestamp": 1587284560954,
     "user": {
      "displayName": "주세민",
      "photoUrl": "",
      "userId": "18273771056013675846"
     },
     "user_tz": -540
    },
    "id": "Ea07VxdxZxo1",
    "outputId": "81c50017-aba3-4e94-e2d2-dcd8cf371467"
   },
   "outputs": [
    {
     "data": {
      "text/html": [
       "<div>\n",
       "<style scoped>\n",
       "    .dataframe tbody tr th:only-of-type {\n",
       "        vertical-align: middle;\n",
       "    }\n",
       "\n",
       "    .dataframe tbody tr th {\n",
       "        vertical-align: top;\n",
       "    }\n",
       "\n",
       "    .dataframe thead th {\n",
       "        text-align: right;\n",
       "    }\n",
       "</style>\n",
       "<table border=\"1\" class=\"dataframe\">\n",
       "  <thead>\n",
       "    <tr style=\"text-align: right;\">\n",
       "      <th></th>\n",
       "      <th>SS</th>\n",
       "      <th>SKH</th>\n",
       "      <th>NVR</th>\n",
       "      <th>KKO</th>\n",
       "    </tr>\n",
       "    <tr>\n",
       "      <th>Date</th>\n",
       "      <th></th>\n",
       "      <th></th>\n",
       "      <th></th>\n",
       "      <th></th>\n",
       "    </tr>\n",
       "  </thead>\n",
       "  <tbody>\n",
       "    <tr>\n",
       "      <th>2018-04-02</th>\n",
       "      <td>47380.38</td>\n",
       "      <td>79270.88</td>\n",
       "      <td>156585.73</td>\n",
       "      <td>129000.0</td>\n",
       "    </tr>\n",
       "    <tr>\n",
       "      <th>2018-04-03</th>\n",
       "      <td>46970.41</td>\n",
       "      <td>79758.41</td>\n",
       "      <td>156585.73</td>\n",
       "      <td>128500.0</td>\n",
       "    </tr>\n",
       "    <tr>\n",
       "      <th>2018-04-04</th>\n",
       "      <td>45799.07</td>\n",
       "      <td>78393.34</td>\n",
       "      <td>150402.09</td>\n",
       "      <td>123500.0</td>\n",
       "    </tr>\n",
       "    <tr>\n",
       "      <th>2018-04-05</th>\n",
       "      <td>47575.59</td>\n",
       "      <td>80830.95</td>\n",
       "      <td>155388.91</td>\n",
       "      <td>124500.0</td>\n",
       "    </tr>\n",
       "    <tr>\n",
       "      <th>2018-04-06</th>\n",
       "      <td>47243.72</td>\n",
       "      <td>78295.84</td>\n",
       "      <td>153593.66</td>\n",
       "      <td>122500.0</td>\n",
       "    </tr>\n",
       "  </tbody>\n",
       "</table>\n",
       "</div>"
      ],
      "text/plain": [
       "                  SS       SKH        NVR       KKO\n",
       "Date                                               \n",
       "2018-04-02  47380.38  79270.88  156585.73  129000.0\n",
       "2018-04-03  46970.41  79758.41  156585.73  128500.0\n",
       "2018-04-04  45799.07  78393.34  150402.09  123500.0\n",
       "2018-04-05  47575.59  80830.95  155388.91  124500.0\n",
       "2018-04-06  47243.72  78295.84  153593.66  122500.0"
      ]
     },
     "execution_count": 5,
     "metadata": {
      "tags": []
     },
     "output_type": "execute_result"
    }
   ],
   "source": [
    "p_KR.head()"
   ]
  },
  {
   "cell_type": "code",
   "execution_count": null,
   "metadata": {
    "colab": {},
    "colab_type": "code",
    "id": "th6CD8ZSBb1W"
   },
   "outputs": [],
   "source": []
  },
  {
   "cell_type": "code",
   "execution_count": null,
   "metadata": {},
   "outputs": [],
   "source": []
  },
  {
   "cell_type": "markdown",
   "metadata": {},
   "source": [
    "--------"
   ]
  },
  {
   "cell_type": "markdown",
   "metadata": {
    "colab_type": "text",
    "id": "5oEY6f5Zc2Ks"
   },
   "source": [
    "## portfolio city"
   ]
  },
  {
   "cell_type": "code",
   "execution_count": 4,
   "metadata": {
    "colab": {
     "base_uri": "https://localhost:8080/",
     "height": 35
    },
    "colab_type": "code",
    "executionInfo": {
     "elapsed": 663,
     "status": "ok",
     "timestamp": 1587284704163,
     "user": {
      "displayName": "주세민",
      "photoUrl": "",
      "userId": "18273771056013675846"
     },
     "user_tz": -540
    },
    "id": "aa7HSXzpFQ9v",
    "outputId": "9eee3075-a938-4443-c2d3-3ce0ccc4349f"
   },
   "outputs": [
    {
     "data": {
      "text/plain": [
       "array([0.35001869, 0.36077172, 0.2320883 , 0.0571213 ])"
      ]
     },
     "execution_count": 4,
     "metadata": {},
     "output_type": "execute_result"
    }
   ],
   "source": [
    "# Generate 3000 random weights to show return and risk\n",
    "weights=np.random.rand(len(Tech_KR))\n",
    "\n",
    "# weights must be 1 when combined\n",
    "weights=weights/np.sum(weights)\n",
    "weights"
   ]
  },
  {
   "cell_type": "code",
   "execution_count": 5,
   "metadata": {
    "colab": {
     "base_uri": "https://localhost:8080/",
     "height": 35
    },
    "colab_type": "code",
    "executionInfo": {
     "elapsed": 644,
     "status": "ok",
     "timestamp": 1587284848581,
     "user": {
      "displayName": "주세민",
      "photoUrl": "",
      "userId": "18273771056013675846"
     },
     "user_tz": -540
    },
    "id": "RULkRFkGFQ5u",
    "outputId": "fac7caac-6154-4128-9cbe-07de44748e20"
   },
   "outputs": [
    {
     "data": {
      "text/plain": [
       "0.0970762145182752"
      ]
     },
     "execution_count": 5,
     "metadata": {},
     "output_type": "execute_result"
    }
   ],
   "source": [
    "# Return for randomly generated random numbers\n",
    "r_a= (p_KR.iloc[-1]+d_KR.sum())/p_KR.iloc[0]-1\n",
    "port_return= np.dot(weights, r_a)\n",
    "port_return"
   ]
  },
  {
   "cell_type": "code",
   "execution_count": 6,
   "metadata": {
    "colab": {
     "base_uri": "https://localhost:8080/",
     "height": 35
    },
    "colab_type": "code",
    "executionInfo": {
     "elapsed": 643,
     "status": "ok",
     "timestamp": 1587285080622,
     "user": {
      "displayName": "주세민",
      "photoUrl": "",
      "userId": "18273771056013675846"
     },
     "user_tz": -540
    },
    "id": "1I_DHAYfEEy-",
    "outputId": "822bbeeb-1dd9-44f0-c40f-da0334f64169"
   },
   "outputs": [
    {
     "data": {
      "text/plain": [
       "0.06972621873865027"
      ]
     },
     "execution_count": 6,
     "metadata": {},
     "output_type": "execute_result"
    }
   ],
   "source": [
    "# Risk for randomly generated random numbers\n",
    "covar_KR=(p_KR/p_KR.shift()-1).cov()*252\n",
    "port_risk= np.dot(weights.T, np.dot(covar_KR, weights))\n",
    "port_risk"
   ]
  },
  {
   "cell_type": "code",
   "execution_count": 7,
   "metadata": {
    "colab": {},
    "colab_type": "code",
    "id": "Q6iltdxYEEpy"
   },
   "outputs": [],
   "source": [
    "# Portfolio return and risk according to the combination of weights\n",
    "port_returns=[]\n",
    "port_risks=[]\n",
    "for ii in range(3000):\n",
    "    weights=np.random.rand(len(Tech_KR))\n",
    "    weights=weights/np.sum(weights)\n",
    "    r_a= (p_KR.iloc[-1]+d_KR.sum())/p_KR.iloc[0]-1\n",
    "    port_return= np.dot(weights, r_a)\n",
    "    covar_KR=(p_KR/p_KR.shift()-1).cov()*252\n",
    "    port_risk= np.dot(weights.T, np.dot(covar_KR, weights))\n",
    "    port_returns.append(port_return)\n",
    "    port_risks.append(port_risk)\n",
    "\n"
   ]
  },
  {
   "cell_type": "code",
   "execution_count": 23,
   "metadata": {
    "colab": {},
    "colab_type": "code",
    "id": "Nufmb8BhhWUW"
   },
   "outputs": [],
   "source": [
    "port_returns = np.array(port_returns)\n",
    "port_risks= np.array(port_risks)"
   ]
  },
  {
   "cell_type": "code",
   "execution_count": 24,
   "metadata": {
    "colab": {
     "base_uri": "https://localhost:8080/",
     "height": 280
    },
    "colab_type": "code",
    "executionInfo": {
     "elapsed": 1128,
     "status": "ok",
     "timestamp": 1587285514347,
     "user": {
      "displayName": "주세민",
      "photoUrl": "",
      "userId": "18273771056013675846"
     },
     "user_tz": -540
    },
    "id": "7o7Tr0iUlHGL",
    "outputId": "59c23b10-14c4-489c-f53b-a58fd1eb53a1"
   },
   "outputs": [
    {
     "data": {
      "image/png": "[encoded data removed]",
      "text/plain": [
       "<Figure size 432x288 with 2 Axes>"
      ]
     },
     "metadata": {
      "needs_background": "light"
     },
     "output_type": "display_data"
    }
   ],
   "source": [
    "plt.scatter(port_risks, port_returns, c=port_returns/port_risks)\n",
    "plt.colorbar(label='Sharpe ratio')\n",
    "plt.xlabel('expected_risk')\n",
    "plt.ylabel('expected_return')\n",
    "plt.grid(True)\n",
    "plt.show()"
   ]
  },
  {
   "cell_type": "code",
   "execution_count": null,
   "metadata": {
    "colab": {},
    "colab_type": "code",
    "id": "MuA4hpL8lHAX"
   },
   "outputs": [],
   "source": []
  },
  {
   "cell_type": "code",
   "execution_count": null,
   "metadata": {
    "colab": {},
    "colab_type": "code",
    "id": "RE3qGXGOlG6v"
   },
   "outputs": [],
   "source": []
  },
  {
   "cell_type": "markdown",
   "metadata": {
    "colab": {},
    "colab_type": "code",
    "id": "-pjcylz91xn2"
   },
   "source": [
    "------"
   ]
  },
  {
   "cell_type": "markdown",
   "metadata": {
    "colab_type": "text",
    "id": "smB4STELhitZ"
   },
   "source": [
    "## Define the optimization problem\n",
    "- Objective function: Sharpe ratio (max), Risk (min)\n",
    "- Optional variable: weights\n",
    "- Constraint: the sum of all weights is 1\n",
    "- Boundary: Each weight is between 0 and 1."
   ]
  },
  {
   "cell_type": "markdown",
   "metadata": {
    "colab_type": "text",
    "id": "fot1eqAtMBND"
   },
   "source": [
    "## Portfolio Optimization: Finding Three Points\n",
    "- Minimum portfolio risk\n",
    "- Max Sharpe Index\n",
    "- Efficient investment point: A portfolio that can have the minimum risk to achieve the target return"
   ]
  },
  {
   "cell_type": "code",
   "execution_count": 9,
   "metadata": {
    "colab": {},
    "colab_type": "code",
    "id": "UUm8QvXFPFQ-"
   },
   "outputs": [],
   "source": [
    "#minimize(objective function, w0, constraints=, bounds= )"
   ]
  },
  {
   "cell_type": "code",
   "execution_count": 10,
   "metadata": {
    "colab": {},
    "colab_type": "code",
    "id": "aNQ89j5JPFMW"
   },
   "outputs": [],
   "source": [
    "# Define the objective function\n",
    "# First, if you put weights, define a function that returns rist, return, and sharpe raio => Define an objective function\n",
    "def get_stats(weights):\n",
    "    r_a= (p_KR.iloc[-1]+d_KR.sum())/p_KR.iloc[0]-1\n",
    "    port_return= np.dot(weights, r_a)\n",
    "    covar_KR=(p_KR/p_KR.shift(1)-1).cov()*252\n",
    "    port_risk= np.dot(weights.T, np.dot(covar_KR, weights))\n",
    "    port_sharpe= port_return/ port_risk \n",
    "    return [port_return, port_risk, port_sharpe]\n",
    "\n",
    "def objective_return(weights):\n",
    "    return -get_stats(weights)[0]\n",
    "\n",
    "def objective_risk(weights):\n",
    "    return get_stats(weights)[1]\n",
    "\n",
    "def objective_sharpe(weights):\n",
    "    return -get_stats(weights)[2]"
   ]
  },
  {
   "cell_type": "code",
   "execution_count": 11,
   "metadata": {
    "colab": {
     "base_uri": "https://localhost:8080/",
     "height": 35
    },
    "colab_type": "code",
    "executionInfo": {
     "elapsed": 422,
     "status": "ok",
     "timestamp": 1587287912599,
     "user": {
      "displayName": "주세민",
      "photoUrl": "",
      "userId": "18273771056013675846"
     },
     "user_tz": -540
    },
    "id": "SeO8qyCvPFII",
    "outputId": "3d04b7af-7951-47dc-8d5f-d3360a806614"
   },
   "outputs": [
    {
     "data": {
      "text/plain": [
       "[0.1291941702770169, 0.06897930803689836, 1.8729409435059634]"
      ]
     },
     "execution_count": 11,
     "metadata": {},
     "output_type": "execute_result"
    }
   ],
   "source": [
    "get_stats(weights)"
   ]
  },
  {
   "cell_type": "code",
   "execution_count": 12,
   "metadata": {
    "colab": {},
    "colab_type": "code",
    "id": "kCDihUmZPFD_"
   },
   "outputs": [],
   "source": [
    "# define w0\n",
    "w0=np.ones(len(Tech_KR))/len(Tech_KR)"
   ]
  },
  {
   "cell_type": "code",
   "execution_count": 13,
   "metadata": {
    "colab": {},
    "colab_type": "code",
    "id": "BIOjgPHhPE_k"
   },
   "outputs": [],
   "source": [
    "# constraints\n",
    "constraints={'type':'eq', 'fun': lambda x: np.sum(x)-1 }"
   ]
  },
  {
   "cell_type": "code",
   "execution_count": 14,
   "metadata": {
    "colab": {},
    "colab_type": "code",
    "id": "SEZJpZ-JPE7Z"
   },
   "outputs": [],
   "source": [
    "# bounds\n",
    "bound=(0,1)\n",
    "bounds= tuple(bound for ii in range(len(Tech_KR)))"
   ]
  },
  {
   "cell_type": "code",
   "execution_count": 15,
   "metadata": {
    "colab": {
     "base_uri": "https://localhost:8080/",
     "height": 35
    },
    "colab_type": "code",
    "executionInfo": {
     "elapsed": 747,
     "status": "ok",
     "timestamp": 1587286146897,
     "user": {
      "displayName": "주세민",
      "photoUrl": "",
      "userId": "18273771056013675846"
     },
     "user_tz": -540
    },
    "id": "-4K5Qz3cPE3a",
    "outputId": "3cbd2541-8321-4c93-e554-9293cae96f58"
   },
   "outputs": [
    {
     "data": {
      "text/plain": [
       "((0, 1), (0, 1), (0, 1), (0, 1))"
      ]
     },
     "execution_count": 15,
     "metadata": {},
     "output_type": "execute_result"
    }
   ],
   "source": [
    "bounds"
   ]
  },
  {
   "cell_type": "code",
   "execution_count": null,
   "metadata": {
    "colab": {},
    "colab_type": "code",
    "id": "0o7RkPM_PEyz"
   },
   "outputs": [],
   "source": []
  },
  {
   "cell_type": "code",
   "execution_count": null,
   "metadata": {},
   "outputs": [],
   "source": []
  },
  {
   "cell_type": "code",
   "execution_count": 16,
   "metadata": {
    "colab": {},
    "colab_type": "code",
    "id": "pczWFw7jPEux"
   },
   "outputs": [],
   "source": [
    "# Optimization 1. Minimum Risk\n",
    "opt_risk = minimize(objective_risk, w0, constraints=constraints, bounds=bounds)\n",
    "# Optimization 2. max Sharp ration \n",
    "opt_sharpe= minimize(objective_sharpe, w0, constraints=constraints, bounds=bounds )"
   ]
  },
  {
   "cell_type": "code",
   "execution_count": 20,
   "metadata": {},
   "outputs": [
    {
     "data": {
      "text/plain": [
       "     fun: 0.05447379098832997\n",
       "     jac: array([0.10889659, 0.11538666, 0.1085864 , 0.10935601])\n",
       " message: 'Optimization terminated successfully'\n",
       "    nfev: 35\n",
       "     nit: 7\n",
       "    njev: 7\n",
       "  status: 0\n",
       " success: True\n",
       "       x: array([0.52076309, 0.        , 0.219825  , 0.25941191])"
      ]
     },
     "execution_count": 20,
     "metadata": {},
     "output_type": "execute_result"
    }
   ],
   "source": [
    "opt_risk"
   ]
  },
  {
   "cell_type": "code",
   "execution_count": 17,
   "metadata": {
    "colab": {
     "base_uri": "https://localhost:8080/",
     "height": 35
    },
    "colab_type": "code",
    "executionInfo": {
     "elapsed": 648,
     "status": "ok",
     "timestamp": 1587286386518,
     "user": {
      "displayName": "주세민",
      "photoUrl": "",
      "userId": "18273771056013675846"
     },
     "user_tz": -540
    },
    "id": "5KWjeqrGPEqu",
    "outputId": "2f526715-14fb-4dfd-aeae-e11b979fcae6"
   },
   "outputs": [
    {
     "name": "stdout",
     "output_type": "stream",
     "text": [
      "0.05447379098832997\n",
      "[0.52076309 0.         0.219825   0.25941191]\n"
     ]
    }
   ],
   "source": [
    "# Optimized risk\n",
    "print(opt_risk['fun'])\n",
    "\n",
    "# weights at that time (portfolio)\n",
    "print(opt_risk['x']) "
   ]
  },
  {
   "cell_type": "code",
   "execution_count": 21,
   "metadata": {},
   "outputs": [
    {
     "data": {
      "text/plain": [
       "     fun: -2.4715832411464684\n",
       "     jac: array([2.47340509, 3.09203136, 2.47240958, 2.46969274])\n",
       " message: 'Optimization terminated successfully'\n",
       "    nfev: 33\n",
       "     nit: 6\n",
       "    njev: 6\n",
       "  status: 0\n",
       " success: True\n",
       "       x: array([5.06138576e-01, 6.46119613e-17, 3.40081441e-03, 4.90460610e-01])"
      ]
     },
     "execution_count": 21,
     "metadata": {},
     "output_type": "execute_result"
    }
   ],
   "source": [
    "opt_sharpe"
   ]
  },
  {
   "cell_type": "code",
   "execution_count": 19,
   "metadata": {
    "colab": {
     "base_uri": "https://localhost:8080/",
     "height": 35
    },
    "colab_type": "code",
    "executionInfo": {
     "elapsed": 720,
     "status": "ok",
     "timestamp": 1587286436301,
     "user": {
      "displayName": "주세민",
      "photoUrl": "",
      "userId": "18273771056013675846"
     },
     "user_tz": -540
    },
    "id": "rCbTAXwePEm4",
    "outputId": "2ea5b2bb-d931-4a21-caad-0dd5bbbeb679"
   },
   "outputs": [
    {
     "name": "stdout",
     "output_type": "stream",
     "text": [
      "2.4715832411464684\n"
     ]
    },
    {
     "data": {
      "text/plain": [
       "array([5.06138576e-01, 6.46119613e-17, 3.40081441e-03, 4.90460610e-01])"
      ]
     },
     "execution_count": 19,
     "metadata": {},
     "output_type": "execute_result"
    }
   ],
   "source": [
    "# Optimized sharpe ratio\n",
    "print(-opt_sharpe['fun'])\n",
    "\n",
    "# weights at that time (portfolio)\n",
    "(opt_sharpe['x'])"
   ]
  },
  {
   "cell_type": "code",
   "execution_count": null,
   "metadata": {},
   "outputs": [],
   "source": []
  },
  {
   "cell_type": "code",
   "execution_count": null,
   "metadata": {},
   "outputs": [],
   "source": []
  },
  {
   "cell_type": "markdown",
   "metadata": {},
   "source": [
    "--------------------"
   ]
  },
  {
   "cell_type": "markdown",
   "metadata": {},
   "source": [
    "## View Optimized Sharp ratio and Sharp risk"
   ]
  },
  {
   "cell_type": "code",
   "execution_count": 25,
   "metadata": {
    "colab": {
     "base_uri": "https://localhost:8080/",
     "height": 280
    },
    "colab_type": "code",
    "executionInfo": {
     "elapsed": 1089,
     "status": "ok",
     "timestamp": 1587286640029,
     "user": {
      "displayName": "주세민",
      "photoUrl": "",
      "userId": "18273771056013675846"
     },
     "user_tz": -540
    },
    "id": "1MsCzpOYpTxs",
    "outputId": "83ee77cd-2c1c-41d8-fd80-58a06bb15f21"
   },
   "outputs": [
    {
     "data": {
      "image/png": "[encoded data removed]",
      "text/plain": [
       "<Figure size 432x288 with 2 Axes>"
      ]
     },
     "metadata": {
      "needs_background": "light"
     },
     "output_type": "display_data"
    }
   ],
   "source": [
    "plt.scatter(port_risks, port_returns, c=port_returns/port_risks)\n",
    "plt.colorbar(label='Sharpe ratio')\n",
    "pt_opt_sharpe=get_stats(opt_sharpe['x'])\n",
    "plt.scatter(pt_opt_sharpe[1], pt_opt_sharpe[0], marker='*', s=500, c='black', alpha=0.5)\n",
    "pt_opt_risk=get_stats(opt_risk['x'])\n",
    "plt.scatter(pt_opt_risk[1], pt_opt_risk[0], marker='*', s=500, c='red', alpha=0.5)\n",
    "plt.xlabel('expected_risk')\n",
    "plt.ylabel('expected_return')\n",
    "plt.grid(True)\n",
    "plt.show()"
   ]
  },
  {
   "cell_type": "code",
   "execution_count": 26,
   "metadata": {
    "colab": {},
    "colab_type": "code",
    "id": "2CeF0T1OpS8x"
   },
   "outputs": [],
   "source": [
    "# Efficient investment point: A portfolio that has the minimum risk to achieve the target return.\n",
    "target_returns= np.linspace(0.14, 0.23, 50)"
   ]
  },
  {
   "cell_type": "code",
   "execution_count": 27,
   "metadata": {
    "colab": {},
    "colab_type": "code",
    "id": "U_X8CjYkvToC"
   },
   "outputs": [],
   "source": [
    "target_risks=[]\n",
    "target_port={}\n",
    "for target_return in target_returns:\n",
    "    constraints= ({'type':'eq', 'fun': lambda x: np.sum(x)-1 }, \n",
    "                {'type':'eq', 'fun': lambda x:get_stats(x)[0]-target_return})\n",
    "    opt_target=minimize(objective_risk, w0, constraints=constraints, bounds=bounds)\n",
    "    target_risks.append(opt_target['fun'])\n",
    "    target_port[target_return]=opt_target['x']\n",
    "\n",
    "target_risks=np.array(target_risks)"
   ]
  },
  {
   "cell_type": "code",
   "execution_count": null,
   "metadata": {},
   "outputs": [],
   "source": []
  },
  {
   "cell_type": "code",
   "execution_count": null,
   "metadata": {},
   "outputs": [],
   "source": []
  },
  {
   "cell_type": "markdown",
   "metadata": {},
   "source": [
    "-----------------"
   ]
  },
  {
   "cell_type": "markdown",
   "metadata": {},
   "source": [
    "## Portfolio construction"
   ]
  },
  {
   "cell_type": "code",
   "execution_count": 28,
   "metadata": {
    "colab": {
     "base_uri": "https://localhost:8080/",
     "height": 411
    },
    "colab_type": "code",
    "executionInfo": {
     "elapsed": 1978,
     "status": "ok",
     "timestamp": 1587289150231,
     "user": {
      "displayName": "주세민",
      "photoUrl": "",
      "userId": "18273771056013675846"
     },
     "user_tz": -540
    },
    "id": "GusqnAe_vTbx",
    "outputId": "e159286c-a522-463f-d82e-8a01b8d48b37"
   },
   "outputs": [
    {
     "data": {
      "text/plain": [
       "<AxesSubplot:>"
      ]
     },
     "execution_count": 28,
     "metadata": {},
     "output_type": "execute_result"
    },
    {
     "data": {
      "image/png": "[encoded data removed]",
      "text/plain": [
       "<Figure size 1008x432 with 1 Axes>"
      ]
     },
     "metadata": {
      "needs_background": "light"
     },
     "output_type": "display_data"
    }
   ],
   "source": [
    "w=pd.DataFrame(target_port.values())\n",
    "w.columns=['SS', 'SKH', 'NVR', 'KKO']\n",
    "w.index=target_returns.round(3)\n",
    "w.plot(figsize=(14,6), kind='bar', stacked=True)"
   ]
  },
  {
   "cell_type": "code",
   "execution_count": 29,
   "metadata": {
    "colab": {
     "base_uri": "https://localhost:8080/",
     "height": 280
    },
    "colab_type": "code",
    "executionInfo": {
     "elapsed": 1200,
     "status": "ok",
     "timestamp": 1587289347616,
     "user": {
      "displayName": "주세민",
      "photoUrl": "",
      "userId": "18273771056013675846"
     },
     "user_tz": -540
    },
    "id": "BTMka1fDvTXH",
    "outputId": "b7688e21-1491-4790-f79d-de99841e30e3"
   },
   "outputs": [
    {
     "data": {
      "image/png": "[encoded data removed]",
      "text/plain": [
       "<Figure size 432x288 with 2 Axes>"
      ]
     },
     "metadata": {
      "needs_background": "light"
     },
     "output_type": "display_data"
    }
   ],
   "source": [
    "plt.scatter(port_risks, port_returns, c=port_returns/port_risks)\n",
    "plt.colorbar(label='Sharpe ratio')\n",
    "plt.scatter(target_risks, target_returns, marker='x')\n",
    "plt.xlabel('expected_risk')\n",
    "plt.ylabel('expected_return')\n",
    "plt.grid(True)\n",
    "plt.show()"
   ]
  },
  {
   "cell_type": "code",
   "execution_count": null,
   "metadata": {
    "colab": {},
    "colab_type": "code",
    "id": "hResbDltvTTS"
   },
   "outputs": [],
   "source": []
  },
  {
   "cell_type": "code",
   "execution_count": null,
   "metadata": {
    "colab": {},
    "colab_type": "code",
    "id": "B-DfjCCCvTOk"
   },
   "outputs": [],
   "source": []
  }
 ],
 "metadata": {
  "colab": {
   "collapsed_sections": [],
   "name": "04_05.(실습) 최적의 포트폴리오 도출하기.ipynb",
   "provenance": []
  },
  "kernelspec": {
   "display_name": "dylan",
   "language": "python",
   "name": "dylan"
  },
  "language_info": {
   "codemirror_mode": {
    "name": "ipython",
    "version": 3
   },
   "file_extension": ".py",
   "mimetype": "text/x-python",
   "name": "python",
   "nbconvert_exporter": "python",
   "pygments_lexer": "ipython3",
   "version": "3.9.12"
  }
 },
 "nbformat": 4,
 "nbformat_minor": 4
}
