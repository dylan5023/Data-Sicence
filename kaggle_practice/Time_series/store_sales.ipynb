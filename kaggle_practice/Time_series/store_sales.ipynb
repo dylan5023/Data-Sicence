{
 "cells": [
  {
   "cell_type": "markdown",
   "id": "a8f2a1ba-8d40-4c98-a0d5-a2cae1d54f2f",
   "metadata": {},
   "source": [
    "## Data  and Moules"
   ]
  },
  {
   "cell_type": "code",
   "execution_count": 7,
   "id": "1824b625-21c2-4593-8e71-4b14b6281ee1",
   "metadata": {},
   "outputs": [],
   "source": [
    "import numpy as np\n",
    "import pandas as pd"
   ]
  },
  {
   "cell_type": "code",
   "execution_count": 6,
   "id": "79dc9abb-929e-408a-a3d2-0e1e2fe2a664",
   "metadata": {},
   "outputs": [],
   "source": [
    "#visoualization tools\n",
    "from matplotlib import pyplot as plt, style\n",
    "style.use('seaborn-darkgrid')\n",
    "import seaborn as sns\n",
    "sns.set_style('darkgrid')\n",
    "import plotly.express as px\n",
    "from tqdm import tqdm"
   ]
  },
  {
   "cell_type": "code",
   "execution_count": 115,
   "id": "33661f75-c0ff-4080-9b53-807e77576118",
   "metadata": {},
   "outputs": [],
   "source": [
    "import statsmodels.api as sm\n",
    "from statsmodels.tsa.deterministic import DeterministicProcess, CalendarFourier\n",
    "from statsmodels.graphics.tsaplots import plot_pacf\n",
    "from statsmodels.tsa.stattools import adfuller"
   ]
  },
  {
   "cell_type": "code",
   "execution_count": 12,
   "id": "76e4a689-d160-43f2-ae4b-3be0aa3a78d8",
   "metadata": {},
   "outputs": [],
   "source": [
    "import gc\n",
    "gc.enable()\n",
    "from warnings import filterwarnings, simplefilter\n",
    "filterwarnings('ignore')\n",
    "simplefilter('ignore')"
   ]
  },
  {
   "cell_type": "code",
   "execution_count": 18,
   "id": "3bbc5227-271c-44a7-9246-a0bf5ff738b9",
   "metadata": {
    "jupyter": {
     "source_hidden": true
    },
    "tags": []
   },
   "outputs": [],
   "source": [
    "os.environ['KAGGLE_USERNAME'] = 'dylankang0523'\n",
    "os.environ['KAGGLE_KEY'] = 'c4fe36bc3052fe4ed3a8962d0926d213'"
   ]
  },
  {
   "cell_type": "code",
   "execution_count": 40,
   "id": "1c70302e-f60a-4db7-9bca-1e3ceb3403ce",
   "metadata": {},
   "outputs": [],
   "source": [
    "#!kaggle competitions download -c store-sales-time-series-forecasting"
   ]
  },
  {
   "cell_type": "code",
   "execution_count": 38,
   "id": "672b703d-575f-426f-9fb5-6cada2021150",
   "metadata": {},
   "outputs": [],
   "source": [
    "# from zipfile import ZipFile"
   ]
  },
  {
   "cell_type": "code",
   "execution_count": 39,
   "id": "80d22327-5f4e-408a-bd31-7071d10d2f17",
   "metadata": {},
   "outputs": [],
   "source": [
    "# with ZipFile('store-sales-time-series-forecasting.zip', 'r') as zipObj:\n",
    "#     zipObj.extractall()"
   ]
  },
  {
   "cell_type": "markdown",
   "id": "5f2f4e80-b96e-4349-82e0-2ed9e4172e09",
   "metadata": {},
   "source": [
    "-----"
   ]
  },
  {
   "cell_type": "markdown",
   "id": "b959efc6-895b-46cc-bf4f-ffaa8bf3da0d",
   "metadata": {},
   "source": [
    "### Get train data"
   ]
  },
  {
   "cell_type": "code",
   "execution_count": 19,
   "id": "fc359066-d9c0-43ca-b1b5-c43813c7896f",
   "metadata": {},
   "outputs": [],
   "source": [
    "train = pd.read_csv('./data/train.csv',\n",
    "                    parse_dates = ['date'], infer_datetime_format = True,\n",
    "                    dtype = {'store_nbr' : 'category',\n",
    "                             'family' : 'category'},\n",
    "                    usecols = ['date', 'store_nbr', 'family', 'sales'])"
   ]
  },
  {
   "cell_type": "code",
   "execution_count": 20,
   "id": "ad92646f-f684-4344-bf1e-93d4b32e9d20",
   "metadata": {},
   "outputs": [],
   "source": [
    "train['date'] = train.date.dt.to_period('D')\n",
    "train = train.set_index(['date','store_nbr','family']).sort_index()"
   ]
  },
  {
   "cell_type": "code",
   "execution_count": 21,
   "id": "d0392783-c063-42ec-b98a-bc829e7fc3b9",
   "metadata": {},
   "outputs": [
    {
     "data": {
      "text/plain": [
       "(3000888, 1)"
      ]
     },
     "execution_count": 21,
     "metadata": {},
     "output_type": "execute_result"
    }
   ],
   "source": [
    "train.shape"
   ]
  },
  {
   "cell_type": "code",
   "execution_count": 22,
   "id": "8e55b7a5-6b6d-41b3-a276-52a3186eba06",
   "metadata": {},
   "outputs": [
    {
     "data": {
      "text/html": [
       "<div>\n",
       "<style scoped>\n",
       "    .dataframe tbody tr th:only-of-type {\n",
       "        vertical-align: middle;\n",
       "    }\n",
       "\n",
       "    .dataframe tbody tr th {\n",
       "        vertical-align: top;\n",
       "    }\n",
       "\n",
       "    .dataframe thead th {\n",
       "        text-align: right;\n",
       "    }\n",
       "</style>\n",
       "<table border=\"1\" class=\"dataframe\">\n",
       "  <thead>\n",
       "    <tr style=\"text-align: right;\">\n",
       "      <th></th>\n",
       "      <th></th>\n",
       "      <th></th>\n",
       "      <th>sales</th>\n",
       "    </tr>\n",
       "    <tr>\n",
       "      <th>date</th>\n",
       "      <th>store_nbr</th>\n",
       "      <th>family</th>\n",
       "      <th></th>\n",
       "    </tr>\n",
       "  </thead>\n",
       "  <tbody>\n",
       "    <tr>\n",
       "      <th rowspan=\"5\" valign=\"top\">2013-01-01</th>\n",
       "      <th rowspan=\"5\" valign=\"top\">1</th>\n",
       "      <th>AUTOMOTIVE</th>\n",
       "      <td>0.0</td>\n",
       "    </tr>\n",
       "    <tr>\n",
       "      <th>BABY CARE</th>\n",
       "      <td>0.0</td>\n",
       "    </tr>\n",
       "    <tr>\n",
       "      <th>BEAUTY</th>\n",
       "      <td>0.0</td>\n",
       "    </tr>\n",
       "    <tr>\n",
       "      <th>BEVERAGES</th>\n",
       "      <td>0.0</td>\n",
       "    </tr>\n",
       "    <tr>\n",
       "      <th>BOOKS</th>\n",
       "      <td>0.0</td>\n",
       "    </tr>\n",
       "  </tbody>\n",
       "</table>\n",
       "</div>"
      ],
      "text/plain": [
       "                                 sales\n",
       "date       store_nbr family           \n",
       "2013-01-01 1         AUTOMOTIVE    0.0\n",
       "                     BABY CARE     0.0\n",
       "                     BEAUTY        0.0\n",
       "                     BEVERAGES     0.0\n",
       "                     BOOKS         0.0"
      ]
     },
     "execution_count": 22,
     "metadata": {},
     "output_type": "execute_result"
    }
   ],
   "source": [
    "train.head()"
   ]
  },
  {
   "cell_type": "code",
   "execution_count": 23,
   "id": "7f6e321a-f731-47ed-aafe-d472d4a6bce3",
   "metadata": {},
   "outputs": [],
   "source": [
    "test = pd.read_csv('./data/test.csv',\n",
    "                  parse_dates = ['date'], infer_datetime_format = True)"
   ]
  },
  {
   "cell_type": "code",
   "execution_count": 24,
   "id": "9a9f8330-81ad-4ec3-8b04-a20da3cc01b2",
   "metadata": {},
   "outputs": [],
   "source": [
    "test['date'] = test.date.dt.to_period('D')\n",
    "test = test.set_index(['date','store_nbr','family']).sort_index()"
   ]
  },
  {
   "cell_type": "code",
   "execution_count": 25,
   "id": "9ef568f8-5af7-4328-bffa-348738058876",
   "metadata": {},
   "outputs": [
    {
     "name": "stdout",
     "output_type": "stream",
     "text": [
      "(28512, 2)\n"
     ]
    },
    {
     "data": {
      "text/html": [
       "<div>\n",
       "<style scoped>\n",
       "    .dataframe tbody tr th:only-of-type {\n",
       "        vertical-align: middle;\n",
       "    }\n",
       "\n",
       "    .dataframe tbody tr th {\n",
       "        vertical-align: top;\n",
       "    }\n",
       "\n",
       "    .dataframe thead th {\n",
       "        text-align: right;\n",
       "    }\n",
       "</style>\n",
       "<table border=\"1\" class=\"dataframe\">\n",
       "  <thead>\n",
       "    <tr style=\"text-align: right;\">\n",
       "      <th></th>\n",
       "      <th></th>\n",
       "      <th></th>\n",
       "      <th>id</th>\n",
       "      <th>onpromotion</th>\n",
       "    </tr>\n",
       "    <tr>\n",
       "      <th>date</th>\n",
       "      <th>store_nbr</th>\n",
       "      <th>family</th>\n",
       "      <th></th>\n",
       "      <th></th>\n",
       "    </tr>\n",
       "  </thead>\n",
       "  <tbody>\n",
       "    <tr>\n",
       "      <th rowspan=\"5\" valign=\"top\">2017-08-16</th>\n",
       "      <th rowspan=\"5\" valign=\"top\">1</th>\n",
       "      <th>AUTOMOTIVE</th>\n",
       "      <td>3000888</td>\n",
       "      <td>0</td>\n",
       "    </tr>\n",
       "    <tr>\n",
       "      <th>BABY CARE</th>\n",
       "      <td>3000889</td>\n",
       "      <td>0</td>\n",
       "    </tr>\n",
       "    <tr>\n",
       "      <th>BEAUTY</th>\n",
       "      <td>3000890</td>\n",
       "      <td>2</td>\n",
       "    </tr>\n",
       "    <tr>\n",
       "      <th>BEVERAGES</th>\n",
       "      <td>3000891</td>\n",
       "      <td>20</td>\n",
       "    </tr>\n",
       "    <tr>\n",
       "      <th>BOOKS</th>\n",
       "      <td>3000892</td>\n",
       "      <td>0</td>\n",
       "    </tr>\n",
       "  </tbody>\n",
       "</table>\n",
       "</div>"
      ],
      "text/plain": [
       "                                      id  onpromotion\n",
       "date       store_nbr family                          \n",
       "2017-08-16 1         AUTOMOTIVE  3000888            0\n",
       "                     BABY CARE   3000889            0\n",
       "                     BEAUTY      3000890            2\n",
       "                     BEVERAGES   3000891           20\n",
       "                     BOOKS       3000892            0"
      ]
     },
     "execution_count": 25,
     "metadata": {},
     "output_type": "execute_result"
    }
   ],
   "source": [
    "print(test.shape)\n",
    "test.head()"
   ]
  },
  {
   "cell_type": "markdown",
   "id": "03781325-21cd-4762-9618-d08e217e5683",
   "metadata": {},
   "source": [
    "### oil price lag features"
   ]
  },
  {
   "cell_type": "code",
   "execution_count": 34,
   "id": "3395882f-a8c0-4072-8e5f-1c8484c317c2",
   "metadata": {},
   "outputs": [],
   "source": [
    "calendar = pd.DataFrame(index = pd.date_range('2013-01-01', '2017-08-31')).to_period('D')"
   ]
  },
  {
   "cell_type": "code",
   "execution_count": 28,
   "id": "9e2315fa-ff48-413a-baf0-5b945a6bcfaf",
   "metadata": {},
   "outputs": [],
   "source": [
    "oil = pd.read_csv('./data/oil.csv', parse_dates = ['date'], infer_datetime_format = True, index_col = 'date').to_period('D')"
   ]
  },
  {
   "cell_type": "code",
   "execution_count": 30,
   "id": "2ba1f439-1bc5-4e9b-b738-ef6c34b64a74",
   "metadata": {},
   "outputs": [
    {
     "data": {
      "text/html": [
       "<div>\n",
       "<style scoped>\n",
       "    .dataframe tbody tr th:only-of-type {\n",
       "        vertical-align: middle;\n",
       "    }\n",
       "\n",
       "    .dataframe tbody tr th {\n",
       "        vertical-align: top;\n",
       "    }\n",
       "\n",
       "    .dataframe thead th {\n",
       "        text-align: right;\n",
       "    }\n",
       "</style>\n",
       "<table border=\"1\" class=\"dataframe\">\n",
       "  <thead>\n",
       "    <tr style=\"text-align: right;\">\n",
       "      <th></th>\n",
       "      <th>dcoilwtico</th>\n",
       "    </tr>\n",
       "    <tr>\n",
       "      <th>date</th>\n",
       "      <th></th>\n",
       "    </tr>\n",
       "  </thead>\n",
       "  <tbody>\n",
       "    <tr>\n",
       "      <th>2013-01-01</th>\n",
       "      <td>NaN</td>\n",
       "    </tr>\n",
       "    <tr>\n",
       "      <th>2013-01-02</th>\n",
       "      <td>93.14</td>\n",
       "    </tr>\n",
       "    <tr>\n",
       "      <th>2013-01-03</th>\n",
       "      <td>92.97</td>\n",
       "    </tr>\n",
       "    <tr>\n",
       "      <th>2013-01-04</th>\n",
       "      <td>93.12</td>\n",
       "    </tr>\n",
       "    <tr>\n",
       "      <th>2013-01-07</th>\n",
       "      <td>93.20</td>\n",
       "    </tr>\n",
       "  </tbody>\n",
       "</table>\n",
       "</div>"
      ],
      "text/plain": [
       "            dcoilwtico\n",
       "date                  \n",
       "2013-01-01         NaN\n",
       "2013-01-02       93.14\n",
       "2013-01-03       92.97\n",
       "2013-01-04       93.12\n",
       "2013-01-07       93.20"
      ]
     },
     "execution_count": 30,
     "metadata": {},
     "output_type": "execute_result"
    }
   ],
   "source": [
    "oil.head()"
   ]
  },
  {
   "cell_type": "code",
   "execution_count": 32,
   "id": "5fffae8b-768d-4710-b63e-201ac93cd0af",
   "metadata": {},
   "outputs": [],
   "source": [
    "oil['avg_oil'] = oil['dcoilwtico'].rolling(7).mean()"
   ]
  },
  {
   "cell_type": "code",
   "execution_count": 35,
   "id": "4e2d1646-3fe3-4e35-b3ce-f91bb504f4dc",
   "metadata": {},
   "outputs": [],
   "source": [
    "calendar = calendar.join(oil.avg_oil)"
   ]
  },
  {
   "cell_type": "code",
   "execution_count": 36,
   "id": "cd201944-604d-4763-8c7f-c742c20495df",
   "metadata": {},
   "outputs": [],
   "source": [
    "calendar['avg_oil'].fillna(method = 'ffill', inplace = True)"
   ]
  },
  {
   "cell_type": "code",
   "execution_count": 37,
   "id": "17109151-5087-4b2b-be78-f6bbd4f2075a",
   "metadata": {},
   "outputs": [],
   "source": [
    "calendar.dropna(inplace = True)"
   ]
  },
  {
   "cell_type": "code",
   "execution_count": 38,
   "id": "582bb491-b0cd-42e4-8dac-07ae07460505",
   "metadata": {},
   "outputs": [
    {
     "data": {
      "text/html": [
       "<div>\n",
       "<style scoped>\n",
       "    .dataframe tbody tr th:only-of-type {\n",
       "        vertical-align: middle;\n",
       "    }\n",
       "\n",
       "    .dataframe tbody tr th {\n",
       "        vertical-align: top;\n",
       "    }\n",
       "\n",
       "    .dataframe thead th {\n",
       "        text-align: right;\n",
       "    }\n",
       "</style>\n",
       "<table border=\"1\" class=\"dataframe\">\n",
       "  <thead>\n",
       "    <tr style=\"text-align: right;\">\n",
       "      <th></th>\n",
       "      <th>avg_oil</th>\n",
       "    </tr>\n",
       "  </thead>\n",
       "  <tbody>\n",
       "    <tr>\n",
       "      <th>2017-08-27</th>\n",
       "      <td>47.720000</td>\n",
       "    </tr>\n",
       "    <tr>\n",
       "      <th>2017-08-28</th>\n",
       "      <td>47.624286</td>\n",
       "    </tr>\n",
       "    <tr>\n",
       "      <th>2017-08-29</th>\n",
       "      <td>47.320000</td>\n",
       "    </tr>\n",
       "    <tr>\n",
       "      <th>2017-08-30</th>\n",
       "      <td>47.115714</td>\n",
       "    </tr>\n",
       "    <tr>\n",
       "      <th>2017-08-31</th>\n",
       "      <td>47.060000</td>\n",
       "    </tr>\n",
       "  </tbody>\n",
       "</table>\n",
       "</div>"
      ],
      "text/plain": [
       "              avg_oil\n",
       "2017-08-27  47.720000\n",
       "2017-08-28  47.624286\n",
       "2017-08-29  47.320000\n",
       "2017-08-30  47.115714\n",
       "2017-08-31  47.060000"
      ]
     },
     "execution_count": 38,
     "metadata": {},
     "output_type": "execute_result"
    }
   ],
   "source": [
    "calendar.tail()"
   ]
  },
  {
   "cell_type": "code",
   "execution_count": 39,
   "id": "dfb581e2-679a-4495-8e12-d527015ae2fa",
   "metadata": {},
   "outputs": [
    {
     "data": {
      "image/png": "[encoded data removed]",
      "text/plain": [
       "<Figure size 432x288 with 1 Axes>"
      ]
     },
     "metadata": {
      "needs_background": "light"
     },
     "output_type": "display_data"
    }
   ],
   "source": [
    "_ = plot_pacf(calendar.avg_oil, lags = 10)"
   ]
  },
  {
   "cell_type": "code",
   "execution_count": 44,
   "id": "aeb6948a-34de-4d05-958f-1d51124e1e46",
   "metadata": {},
   "outputs": [],
   "source": [
    "n_lags = 3\n",
    "for l in range(1, n_lags + 1):\n",
    "    calendar[f'oil_lags{l}'] = calendar.avg_oil.shift(l)\n",
    "calendar.dropna(inplace = True)"
   ]
  },
  {
   "cell_type": "code",
   "execution_count": 45,
   "id": "359f35bd-3d09-46a3-9887-0ac3172f533f",
   "metadata": {},
   "outputs": [
    {
     "data": {
      "text/html": [
       "<div>\n",
       "<style scoped>\n",
       "    .dataframe tbody tr th:only-of-type {\n",
       "        vertical-align: middle;\n",
       "    }\n",
       "\n",
       "    .dataframe tbody tr th {\n",
       "        vertical-align: top;\n",
       "    }\n",
       "\n",
       "    .dataframe thead th {\n",
       "        text-align: right;\n",
       "    }\n",
       "</style>\n",
       "<table border=\"1\" class=\"dataframe\">\n",
       "  <thead>\n",
       "    <tr style=\"text-align: right;\">\n",
       "      <th></th>\n",
       "      <th>avg_oil</th>\n",
       "      <th>oil_lags1</th>\n",
       "      <th>oil_lags2</th>\n",
       "      <th>oil_lags3</th>\n",
       "    </tr>\n",
       "  </thead>\n",
       "  <tbody>\n",
       "    <tr>\n",
       "      <th>2013-01-13</th>\n",
       "      <td>93.284286</td>\n",
       "      <td>93.284286</td>\n",
       "      <td>93.284286</td>\n",
       "      <td>93.218571</td>\n",
       "    </tr>\n",
       "    <tr>\n",
       "      <th>2013-01-14</th>\n",
       "      <td>93.470000</td>\n",
       "      <td>93.284286</td>\n",
       "      <td>93.284286</td>\n",
       "      <td>93.284286</td>\n",
       "    </tr>\n",
       "    <tr>\n",
       "      <th>2013-01-15</th>\n",
       "      <td>93.490000</td>\n",
       "      <td>93.470000</td>\n",
       "      <td>93.284286</td>\n",
       "      <td>93.284286</td>\n",
       "    </tr>\n",
       "    <tr>\n",
       "      <th>2013-01-16</th>\n",
       "      <td>93.644286</td>\n",
       "      <td>93.490000</td>\n",
       "      <td>93.470000</td>\n",
       "      <td>93.284286</td>\n",
       "    </tr>\n",
       "    <tr>\n",
       "      <th>2013-01-17</th>\n",
       "      <td>93.970000</td>\n",
       "      <td>93.644286</td>\n",
       "      <td>93.490000</td>\n",
       "      <td>93.470000</td>\n",
       "    </tr>\n",
       "  </tbody>\n",
       "</table>\n",
       "</div>"
      ],
      "text/plain": [
       "              avg_oil  oil_lags1  oil_lags2  oil_lags3\n",
       "2013-01-13  93.284286  93.284286  93.284286  93.218571\n",
       "2013-01-14  93.470000  93.284286  93.284286  93.284286\n",
       "2013-01-15  93.490000  93.470000  93.284286  93.284286\n",
       "2013-01-16  93.644286  93.490000  93.470000  93.284286\n",
       "2013-01-17  93.970000  93.644286  93.490000  93.470000"
      ]
     },
     "execution_count": 45,
     "metadata": {},
     "output_type": "execute_result"
    }
   ],
   "source": [
    "calendar.head()"
   ]
  },
  {
   "cell_type": "markdown",
   "id": "92f7f5e1-a55f-4223-9dc3-7949a8c65c1a",
   "metadata": {},
   "source": [
    "### Holiday features"
   ]
  },
  {
   "cell_type": "code",
   "execution_count": 46,
   "id": "93fc61b5-791a-4319-af82-44fc489bf2e8",
   "metadata": {},
   "outputs": [],
   "source": [
    "hol = pd.read_csv('./data/holidays_events.csv',\n",
    "                  parse_dates = ['date'], infer_datetime_format = True,\n",
    "                  index_col = 'date').to_period('D')"
   ]
  },
  {
   "cell_type": "code",
   "execution_count": 47,
   "id": "08d8c423-0fb2-4ce1-9410-3bc18d5db440",
   "metadata": {},
   "outputs": [
    {
     "data": {
      "text/html": [
       "<div>\n",
       "<style scoped>\n",
       "    .dataframe tbody tr th:only-of-type {\n",
       "        vertical-align: middle;\n",
       "    }\n",
       "\n",
       "    .dataframe tbody tr th {\n",
       "        vertical-align: top;\n",
       "    }\n",
       "\n",
       "    .dataframe thead th {\n",
       "        text-align: right;\n",
       "    }\n",
       "</style>\n",
       "<table border=\"1\" class=\"dataframe\">\n",
       "  <thead>\n",
       "    <tr style=\"text-align: right;\">\n",
       "      <th></th>\n",
       "      <th>type</th>\n",
       "      <th>locale</th>\n",
       "      <th>locale_name</th>\n",
       "      <th>description</th>\n",
       "      <th>transferred</th>\n",
       "    </tr>\n",
       "    <tr>\n",
       "      <th>date</th>\n",
       "      <th></th>\n",
       "      <th></th>\n",
       "      <th></th>\n",
       "      <th></th>\n",
       "      <th></th>\n",
       "    </tr>\n",
       "  </thead>\n",
       "  <tbody>\n",
       "    <tr>\n",
       "      <th>2012-03-02</th>\n",
       "      <td>Holiday</td>\n",
       "      <td>Local</td>\n",
       "      <td>Manta</td>\n",
       "      <td>Fundacion de Manta</td>\n",
       "      <td>False</td>\n",
       "    </tr>\n",
       "    <tr>\n",
       "      <th>2012-04-01</th>\n",
       "      <td>Holiday</td>\n",
       "      <td>Regional</td>\n",
       "      <td>Cotopaxi</td>\n",
       "      <td>Provincializacion de Cotopaxi</td>\n",
       "      <td>False</td>\n",
       "    </tr>\n",
       "    <tr>\n",
       "      <th>2012-04-12</th>\n",
       "      <td>Holiday</td>\n",
       "      <td>Local</td>\n",
       "      <td>Cuenca</td>\n",
       "      <td>Fundacion de Cuenca</td>\n",
       "      <td>False</td>\n",
       "    </tr>\n",
       "    <tr>\n",
       "      <th>2012-04-14</th>\n",
       "      <td>Holiday</td>\n",
       "      <td>Local</td>\n",
       "      <td>Libertad</td>\n",
       "      <td>Cantonizacion de Libertad</td>\n",
       "      <td>False</td>\n",
       "    </tr>\n",
       "    <tr>\n",
       "      <th>2012-04-21</th>\n",
       "      <td>Holiday</td>\n",
       "      <td>Local</td>\n",
       "      <td>Riobamba</td>\n",
       "      <td>Cantonizacion de Riobamba</td>\n",
       "      <td>False</td>\n",
       "    </tr>\n",
       "  </tbody>\n",
       "</table>\n",
       "</div>"
      ],
      "text/plain": [
       "               type    locale locale_name                    description  \\\n",
       "date                                                                       \n",
       "2012-03-02  Holiday     Local       Manta             Fundacion de Manta   \n",
       "2012-04-01  Holiday  Regional    Cotopaxi  Provincializacion de Cotopaxi   \n",
       "2012-04-12  Holiday     Local      Cuenca            Fundacion de Cuenca   \n",
       "2012-04-14  Holiday     Local    Libertad      Cantonizacion de Libertad   \n",
       "2012-04-21  Holiday     Local    Riobamba      Cantonizacion de Riobamba   \n",
       "\n",
       "            transferred  \n",
       "date                     \n",
       "2012-03-02        False  \n",
       "2012-04-01        False  \n",
       "2012-04-12        False  \n",
       "2012-04-14        False  \n",
       "2012-04-21        False  "
      ]
     },
     "execution_count": 47,
     "metadata": {},
     "output_type": "execute_result"
    }
   ],
   "source": [
    "hol.head()"
   ]
  },
  {
   "cell_type": "code",
   "execution_count": 51,
   "id": "b0268e2d-7757-421a-912d-2d4f3bc4db15",
   "metadata": {},
   "outputs": [],
   "source": [
    "hol = hol.loc[hol['locale'] == 'National']"
   ]
  },
  {
   "cell_type": "code",
   "execution_count": 53,
   "id": "8cecb56b-cc22-41aa-9dc9-610d0b7f3075",
   "metadata": {},
   "outputs": [
    {
     "name": "stdout",
     "output_type": "stream",
     "text": [
      "(168, 5)\n"
     ]
    }
   ],
   "source": [
    "hol = hol.groupby(hol.index).first() # remove duplicated holidays\n",
    "print(hol.shape)"
   ]
  },
  {
   "cell_type": "code",
   "execution_count": 54,
   "id": "2940a345-7f9b-40e9-b9b5-8c12e013b68d",
   "metadata": {},
   "outputs": [
    {
     "data": {
      "text/html": [
       "<div>\n",
       "<style scoped>\n",
       "    .dataframe tbody tr th:only-of-type {\n",
       "        vertical-align: middle;\n",
       "    }\n",
       "\n",
       "    .dataframe tbody tr th {\n",
       "        vertical-align: top;\n",
       "    }\n",
       "\n",
       "    .dataframe thead th {\n",
       "        text-align: right;\n",
       "    }\n",
       "</style>\n",
       "<table border=\"1\" class=\"dataframe\">\n",
       "  <thead>\n",
       "    <tr style=\"text-align: right;\">\n",
       "      <th></th>\n",
       "      <th>type</th>\n",
       "      <th>locale</th>\n",
       "      <th>locale_name</th>\n",
       "      <th>description</th>\n",
       "      <th>transferred</th>\n",
       "    </tr>\n",
       "    <tr>\n",
       "      <th>date</th>\n",
       "      <th></th>\n",
       "      <th></th>\n",
       "      <th></th>\n",
       "      <th></th>\n",
       "      <th></th>\n",
       "    </tr>\n",
       "  </thead>\n",
       "  <tbody>\n",
       "    <tr>\n",
       "      <th>2012-08-10</th>\n",
       "      <td>Holiday</td>\n",
       "      <td>National</td>\n",
       "      <td>Ecuador</td>\n",
       "      <td>Primer Grito de Independencia</td>\n",
       "      <td>False</td>\n",
       "    </tr>\n",
       "    <tr>\n",
       "      <th>2012-10-09</th>\n",
       "      <td>Holiday</td>\n",
       "      <td>National</td>\n",
       "      <td>Ecuador</td>\n",
       "      <td>Independencia de Guayaquil</td>\n",
       "      <td>True</td>\n",
       "    </tr>\n",
       "    <tr>\n",
       "      <th>2012-10-12</th>\n",
       "      <td>Transfer</td>\n",
       "      <td>National</td>\n",
       "      <td>Ecuador</td>\n",
       "      <td>Traslado Independencia de Guayaquil</td>\n",
       "      <td>False</td>\n",
       "    </tr>\n",
       "    <tr>\n",
       "      <th>2012-11-02</th>\n",
       "      <td>Holiday</td>\n",
       "      <td>National</td>\n",
       "      <td>Ecuador</td>\n",
       "      <td>Dia de Difuntos</td>\n",
       "      <td>False</td>\n",
       "    </tr>\n",
       "    <tr>\n",
       "      <th>2012-11-03</th>\n",
       "      <td>Holiday</td>\n",
       "      <td>National</td>\n",
       "      <td>Ecuador</td>\n",
       "      <td>Independencia de Cuenca</td>\n",
       "      <td>False</td>\n",
       "    </tr>\n",
       "  </tbody>\n",
       "</table>\n",
       "</div>"
      ],
      "text/plain": [
       "                type    locale locale_name  \\\n",
       "date                                         \n",
       "2012-08-10   Holiday  National     Ecuador   \n",
       "2012-10-09   Holiday  National     Ecuador   \n",
       "2012-10-12  Transfer  National     Ecuador   \n",
       "2012-11-02   Holiday  National     Ecuador   \n",
       "2012-11-03   Holiday  National     Ecuador   \n",
       "\n",
       "                                    description  transferred  \n",
       "date                                                          \n",
       "2012-08-10        Primer Grito de Independencia        False  \n",
       "2012-10-09           Independencia de Guayaquil         True  \n",
       "2012-10-12  Traslado Independencia de Guayaquil        False  \n",
       "2012-11-02                      Dia de Difuntos        False  \n",
       "2012-11-03              Independencia de Cuenca        False  "
      ]
     },
     "execution_count": 54,
     "metadata": {},
     "output_type": "execute_result"
    }
   ],
   "source": [
    "hol.head()"
   ]
  },
  {
   "cell_type": "code",
   "execution_count": 55,
   "id": "55b30f51-a07e-4afc-b1a3-3bde9ed5ada4",
   "metadata": {},
   "outputs": [],
   "source": [
    "calendar = calendar.join(hol) # Joining calendar with holiday dataset"
   ]
  },
  {
   "cell_type": "code",
   "execution_count": 56,
   "id": "fa44b5c1-8bd5-40f3-8555-3fb1b7bdba03",
   "metadata": {},
   "outputs": [
    {
     "data": {
      "text/html": [
       "<div>\n",
       "<style scoped>\n",
       "    .dataframe tbody tr th:only-of-type {\n",
       "        vertical-align: middle;\n",
       "    }\n",
       "\n",
       "    .dataframe tbody tr th {\n",
       "        vertical-align: top;\n",
       "    }\n",
       "\n",
       "    .dataframe thead th {\n",
       "        text-align: right;\n",
       "    }\n",
       "</style>\n",
       "<table border=\"1\" class=\"dataframe\">\n",
       "  <thead>\n",
       "    <tr style=\"text-align: right;\">\n",
       "      <th></th>\n",
       "      <th>avg_oil</th>\n",
       "      <th>oil_lags1</th>\n",
       "      <th>oil_lags2</th>\n",
       "      <th>oil_lags3</th>\n",
       "      <th>type</th>\n",
       "      <th>locale</th>\n",
       "      <th>locale_name</th>\n",
       "      <th>description</th>\n",
       "      <th>transferred</th>\n",
       "    </tr>\n",
       "  </thead>\n",
       "  <tbody>\n",
       "    <tr>\n",
       "      <th>2013-01-13</th>\n",
       "      <td>93.284286</td>\n",
       "      <td>93.284286</td>\n",
       "      <td>93.284286</td>\n",
       "      <td>93.218571</td>\n",
       "      <td>NaN</td>\n",
       "      <td>NaN</td>\n",
       "      <td>NaN</td>\n",
       "      <td>NaN</td>\n",
       "      <td>NaN</td>\n",
       "    </tr>\n",
       "    <tr>\n",
       "      <th>2013-01-14</th>\n",
       "      <td>93.470000</td>\n",
       "      <td>93.284286</td>\n",
       "      <td>93.284286</td>\n",
       "      <td>93.284286</td>\n",
       "      <td>NaN</td>\n",
       "      <td>NaN</td>\n",
       "      <td>NaN</td>\n",
       "      <td>NaN</td>\n",
       "      <td>NaN</td>\n",
       "    </tr>\n",
       "    <tr>\n",
       "      <th>2013-01-15</th>\n",
       "      <td>93.490000</td>\n",
       "      <td>93.470000</td>\n",
       "      <td>93.284286</td>\n",
       "      <td>93.284286</td>\n",
       "      <td>NaN</td>\n",
       "      <td>NaN</td>\n",
       "      <td>NaN</td>\n",
       "      <td>NaN</td>\n",
       "      <td>NaN</td>\n",
       "    </tr>\n",
       "    <tr>\n",
       "      <th>2013-01-16</th>\n",
       "      <td>93.644286</td>\n",
       "      <td>93.490000</td>\n",
       "      <td>93.470000</td>\n",
       "      <td>93.284286</td>\n",
       "      <td>NaN</td>\n",
       "      <td>NaN</td>\n",
       "      <td>NaN</td>\n",
       "      <td>NaN</td>\n",
       "      <td>NaN</td>\n",
       "    </tr>\n",
       "    <tr>\n",
       "      <th>2013-01-17</th>\n",
       "      <td>93.970000</td>\n",
       "      <td>93.644286</td>\n",
       "      <td>93.490000</td>\n",
       "      <td>93.470000</td>\n",
       "      <td>NaN</td>\n",
       "      <td>NaN</td>\n",
       "      <td>NaN</td>\n",
       "      <td>NaN</td>\n",
       "      <td>NaN</td>\n",
       "    </tr>\n",
       "  </tbody>\n",
       "</table>\n",
       "</div>"
      ],
      "text/plain": [
       "              avg_oil  oil_lags1  oil_lags2  oil_lags3 type locale  \\\n",
       "2013-01-13  93.284286  93.284286  93.284286  93.218571  NaN    NaN   \n",
       "2013-01-14  93.470000  93.284286  93.284286  93.284286  NaN    NaN   \n",
       "2013-01-15  93.490000  93.470000  93.284286  93.284286  NaN    NaN   \n",
       "2013-01-16  93.644286  93.490000  93.470000  93.284286  NaN    NaN   \n",
       "2013-01-17  93.970000  93.644286  93.490000  93.470000  NaN    NaN   \n",
       "\n",
       "           locale_name description transferred  \n",
       "2013-01-13         NaN         NaN         NaN  \n",
       "2013-01-14         NaN         NaN         NaN  \n",
       "2013-01-15         NaN         NaN         NaN  \n",
       "2013-01-16         NaN         NaN         NaN  \n",
       "2013-01-17         NaN         NaN         NaN  "
      ]
     },
     "execution_count": 56,
     "metadata": {},
     "output_type": "execute_result"
    }
   ],
   "source": [
    "calendar.head()"
   ]
  },
  {
   "cell_type": "code",
   "execution_count": 57,
   "id": "5ac9702b-2827-434a-bbcf-35cfeac552a6",
   "metadata": {},
   "outputs": [],
   "source": [
    "calendar['dofw'] = calendar.index.dayofweek\n",
    "calendar['wd'] = 1"
   ]
  },
  {
   "cell_type": "code",
   "execution_count": 58,
   "id": "8c11571e-748b-4dea-9c63-008e38b8447a",
   "metadata": {},
   "outputs": [
    {
     "data": {
      "text/html": [
       "<div>\n",
       "<style scoped>\n",
       "    .dataframe tbody tr th:only-of-type {\n",
       "        vertical-align: middle;\n",
       "    }\n",
       "\n",
       "    .dataframe tbody tr th {\n",
       "        vertical-align: top;\n",
       "    }\n",
       "\n",
       "    .dataframe thead th {\n",
       "        text-align: right;\n",
       "    }\n",
       "</style>\n",
       "<table border=\"1\" class=\"dataframe\">\n",
       "  <thead>\n",
       "    <tr style=\"text-align: right;\">\n",
       "      <th></th>\n",
       "      <th>avg_oil</th>\n",
       "      <th>oil_lags1</th>\n",
       "      <th>oil_lags2</th>\n",
       "      <th>oil_lags3</th>\n",
       "      <th>type</th>\n",
       "      <th>locale</th>\n",
       "      <th>locale_name</th>\n",
       "      <th>description</th>\n",
       "      <th>transferred</th>\n",
       "      <th>dofw</th>\n",
       "      <th>wd</th>\n",
       "    </tr>\n",
       "  </thead>\n",
       "  <tbody>\n",
       "    <tr>\n",
       "      <th>2013-01-13</th>\n",
       "      <td>93.284286</td>\n",
       "      <td>93.284286</td>\n",
       "      <td>93.284286</td>\n",
       "      <td>93.218571</td>\n",
       "      <td>NaN</td>\n",
       "      <td>NaN</td>\n",
       "      <td>NaN</td>\n",
       "      <td>NaN</td>\n",
       "      <td>NaN</td>\n",
       "      <td>6</td>\n",
       "      <td>1</td>\n",
       "    </tr>\n",
       "    <tr>\n",
       "      <th>2013-01-14</th>\n",
       "      <td>93.470000</td>\n",
       "      <td>93.284286</td>\n",
       "      <td>93.284286</td>\n",
       "      <td>93.284286</td>\n",
       "      <td>NaN</td>\n",
       "      <td>NaN</td>\n",
       "      <td>NaN</td>\n",
       "      <td>NaN</td>\n",
       "      <td>NaN</td>\n",
       "      <td>0</td>\n",
       "      <td>1</td>\n",
       "    </tr>\n",
       "    <tr>\n",
       "      <th>2013-01-15</th>\n",
       "      <td>93.490000</td>\n",
       "      <td>93.470000</td>\n",
       "      <td>93.284286</td>\n",
       "      <td>93.284286</td>\n",
       "      <td>NaN</td>\n",
       "      <td>NaN</td>\n",
       "      <td>NaN</td>\n",
       "      <td>NaN</td>\n",
       "      <td>NaN</td>\n",
       "      <td>1</td>\n",
       "      <td>1</td>\n",
       "    </tr>\n",
       "    <tr>\n",
       "      <th>2013-01-16</th>\n",
       "      <td>93.644286</td>\n",
       "      <td>93.490000</td>\n",
       "      <td>93.470000</td>\n",
       "      <td>93.284286</td>\n",
       "      <td>NaN</td>\n",
       "      <td>NaN</td>\n",
       "      <td>NaN</td>\n",
       "      <td>NaN</td>\n",
       "      <td>NaN</td>\n",
       "      <td>2</td>\n",
       "      <td>1</td>\n",
       "    </tr>\n",
       "    <tr>\n",
       "      <th>2013-01-17</th>\n",
       "      <td>93.970000</td>\n",
       "      <td>93.644286</td>\n",
       "      <td>93.490000</td>\n",
       "      <td>93.470000</td>\n",
       "      <td>NaN</td>\n",
       "      <td>NaN</td>\n",
       "      <td>NaN</td>\n",
       "      <td>NaN</td>\n",
       "      <td>NaN</td>\n",
       "      <td>3</td>\n",
       "      <td>1</td>\n",
       "    </tr>\n",
       "  </tbody>\n",
       "</table>\n",
       "</div>"
      ],
      "text/plain": [
       "              avg_oil  oil_lags1  oil_lags2  oil_lags3 type locale  \\\n",
       "2013-01-13  93.284286  93.284286  93.284286  93.218571  NaN    NaN   \n",
       "2013-01-14  93.470000  93.284286  93.284286  93.284286  NaN    NaN   \n",
       "2013-01-15  93.490000  93.470000  93.284286  93.284286  NaN    NaN   \n",
       "2013-01-16  93.644286  93.490000  93.470000  93.284286  NaN    NaN   \n",
       "2013-01-17  93.970000  93.644286  93.490000  93.470000  NaN    NaN   \n",
       "\n",
       "           locale_name description transferred  dofw  wd  \n",
       "2013-01-13         NaN         NaN         NaN     6   1  \n",
       "2013-01-14         NaN         NaN         NaN     0   1  \n",
       "2013-01-15         NaN         NaN         NaN     1   1  \n",
       "2013-01-16         NaN         NaN         NaN     2   1  \n",
       "2013-01-17         NaN         NaN         NaN     3   1  "
      ]
     },
     "execution_count": 58,
     "metadata": {},
     "output_type": "execute_result"
    }
   ],
   "source": [
    "calendar.head()"
   ]
  },
  {
   "cell_type": "code",
   "execution_count": 60,
   "id": "63469890-b594-4afe-98b0-8185804fe99e",
   "metadata": {},
   "outputs": [],
   "source": [
    "calendar.loc[calendar.dofw > 4, 'wd'] = 0  # remove saturday or sunday"
   ]
  },
  {
   "cell_type": "code",
   "execution_count": 61,
   "id": "219e85ad-1a8c-4141-bc67-7728cf067dde",
   "metadata": {},
   "outputs": [
    {
     "name": "stdout",
     "output_type": "stream",
     "text": [
      "<class 'pandas.core.frame.DataFrame'>\n",
      "PeriodIndex: 1692 entries, 2013-01-13 to 2017-08-31\n",
      "Freq: D\n",
      "Data columns (total 11 columns):\n",
      " #   Column       Non-Null Count  Dtype  \n",
      "---  ------       --------------  -----  \n",
      " 0   avg_oil      1692 non-null   float64\n",
      " 1   oil_lags1    1692 non-null   float64\n",
      " 2   oil_lags2    1692 non-null   float64\n",
      " 3   oil_lags3    1692 non-null   float64\n",
      " 4   type         144 non-null    object \n",
      " 5   locale       144 non-null    object \n",
      " 6   locale_name  144 non-null    object \n",
      " 7   description  144 non-null    object \n",
      " 8   transferred  144 non-null    object \n",
      " 9   dofw         1692 non-null   int64  \n",
      " 10  wd           1692 non-null   int64  \n",
      "dtypes: float64(4), int64(2), object(5)\n",
      "memory usage: 223.2+ KB\n"
     ]
    }
   ],
   "source": [
    "calendar.info()"
   ]
  },
  {
   "cell_type": "code",
   "execution_count": 62,
   "id": "f29afd33-096b-4295-84db-e3e1f934f31b",
   "metadata": {},
   "outputs": [],
   "source": [
    "calendar.loc[calendar.type == 'Work Day', 'wd'] = 1\n",
    "calendar.loc[calendar.type == 'Transfer', 'wd'] = 0 "
   ]
  },
  {
   "cell_type": "code",
   "execution_count": 70,
   "id": "9c9123f6-399d-4f5a-8d57-08c1d0e3946b",
   "metadata": {},
   "outputs": [],
   "source": [
    "calendar.loc[calendar.type == 'Bridge', 'wd'] = 0\n",
    "calendar.loc[(calendar.type == 'Holiday') & (calendar.transferred == False), 'wd'] = 0\n",
    "calendar.loc[(calendar.type == 'Holiday') & (calendar.transferred == True), 'wd'] = 1"
   ]
  },
  {
   "cell_type": "code",
   "execution_count": 72,
   "id": "55afd0e1-2891-4714-8fff-3da3a4fcc3aa",
   "metadata": {},
   "outputs": [],
   "source": [
    "calendar = pd.get_dummies(calendar, columns = ['dofw'], drop_first = True)"
   ]
  },
  {
   "cell_type": "code",
   "execution_count": 73,
   "id": "483f41d7-6613-4c27-b9b9-4096d18e709b",
   "metadata": {},
   "outputs": [],
   "source": [
    "calendar = pd.get_dummies(calendar, columns = ['type'])"
   ]
  },
  {
   "cell_type": "code",
   "execution_count": 74,
   "id": "56b52124-2c43-4da0-b9b8-43a59b66fe0e",
   "metadata": {},
   "outputs": [],
   "source": [
    "calendar.drop(['locale', 'locale_name', 'description', 'transferred'], axis = 1, inplace = True)"
   ]
  },
  {
   "cell_type": "code",
   "execution_count": 75,
   "id": "c38ae7f2-68e5-43c6-96b8-1e52b7dc64e9",
   "metadata": {},
   "outputs": [
    {
     "name": "stdout",
     "output_type": "stream",
     "text": [
      "(1692, 17)\n"
     ]
    },
    {
     "data": {
      "text/html": [
       "<div>\n",
       "<style scoped>\n",
       "    .dataframe tbody tr th:only-of-type {\n",
       "        vertical-align: middle;\n",
       "    }\n",
       "\n",
       "    .dataframe tbody tr th {\n",
       "        vertical-align: top;\n",
       "    }\n",
       "\n",
       "    .dataframe thead th {\n",
       "        text-align: right;\n",
       "    }\n",
       "</style>\n",
       "<table border=\"1\" class=\"dataframe\">\n",
       "  <thead>\n",
       "    <tr style=\"text-align: right;\">\n",
       "      <th></th>\n",
       "      <th>avg_oil</th>\n",
       "      <th>oil_lags1</th>\n",
       "      <th>oil_lags2</th>\n",
       "      <th>oil_lags3</th>\n",
       "      <th>wd</th>\n",
       "      <th>dofw_1</th>\n",
       "      <th>dofw_2</th>\n",
       "      <th>dofw_3</th>\n",
       "      <th>dofw_4</th>\n",
       "      <th>dofw_5</th>\n",
       "      <th>dofw_6</th>\n",
       "      <th>type_Additional</th>\n",
       "      <th>type_Bridge</th>\n",
       "      <th>type_Event</th>\n",
       "      <th>type_Holiday</th>\n",
       "      <th>type_Transfer</th>\n",
       "      <th>type_Work Day</th>\n",
       "    </tr>\n",
       "  </thead>\n",
       "  <tbody>\n",
       "    <tr>\n",
       "      <th>2013-01-13</th>\n",
       "      <td>93.284286</td>\n",
       "      <td>93.284286</td>\n",
       "      <td>93.284286</td>\n",
       "      <td>93.218571</td>\n",
       "      <td>0</td>\n",
       "      <td>0</td>\n",
       "      <td>0</td>\n",
       "      <td>0</td>\n",
       "      <td>0</td>\n",
       "      <td>0</td>\n",
       "      <td>1</td>\n",
       "      <td>0</td>\n",
       "      <td>0</td>\n",
       "      <td>0</td>\n",
       "      <td>0</td>\n",
       "      <td>0</td>\n",
       "      <td>0</td>\n",
       "    </tr>\n",
       "    <tr>\n",
       "      <th>2013-01-14</th>\n",
       "      <td>93.470000</td>\n",
       "      <td>93.284286</td>\n",
       "      <td>93.284286</td>\n",
       "      <td>93.284286</td>\n",
       "      <td>1</td>\n",
       "      <td>0</td>\n",
       "      <td>0</td>\n",
       "      <td>0</td>\n",
       "      <td>0</td>\n",
       "      <td>0</td>\n",
       "      <td>0</td>\n",
       "      <td>0</td>\n",
       "      <td>0</td>\n",
       "      <td>0</td>\n",
       "      <td>0</td>\n",
       "      <td>0</td>\n",
       "      <td>0</td>\n",
       "    </tr>\n",
       "    <tr>\n",
       "      <th>2013-01-15</th>\n",
       "      <td>93.490000</td>\n",
       "      <td>93.470000</td>\n",
       "      <td>93.284286</td>\n",
       "      <td>93.284286</td>\n",
       "      <td>1</td>\n",
       "      <td>1</td>\n",
       "      <td>0</td>\n",
       "      <td>0</td>\n",
       "      <td>0</td>\n",
       "      <td>0</td>\n",
       "      <td>0</td>\n",
       "      <td>0</td>\n",
       "      <td>0</td>\n",
       "      <td>0</td>\n",
       "      <td>0</td>\n",
       "      <td>0</td>\n",
       "      <td>0</td>\n",
       "    </tr>\n",
       "    <tr>\n",
       "      <th>2013-01-16</th>\n",
       "      <td>93.644286</td>\n",
       "      <td>93.490000</td>\n",
       "      <td>93.470000</td>\n",
       "      <td>93.284286</td>\n",
       "      <td>1</td>\n",
       "      <td>0</td>\n",
       "      <td>1</td>\n",
       "      <td>0</td>\n",
       "      <td>0</td>\n",
       "      <td>0</td>\n",
       "      <td>0</td>\n",
       "      <td>0</td>\n",
       "      <td>0</td>\n",
       "      <td>0</td>\n",
       "      <td>0</td>\n",
       "      <td>0</td>\n",
       "      <td>0</td>\n",
       "    </tr>\n",
       "    <tr>\n",
       "      <th>2013-01-17</th>\n",
       "      <td>93.970000</td>\n",
       "      <td>93.644286</td>\n",
       "      <td>93.490000</td>\n",
       "      <td>93.470000</td>\n",
       "      <td>1</td>\n",
       "      <td>0</td>\n",
       "      <td>0</td>\n",
       "      <td>1</td>\n",
       "      <td>0</td>\n",
       "      <td>0</td>\n",
       "      <td>0</td>\n",
       "      <td>0</td>\n",
       "      <td>0</td>\n",
       "      <td>0</td>\n",
       "      <td>0</td>\n",
       "      <td>0</td>\n",
       "      <td>0</td>\n",
       "    </tr>\n",
       "  </tbody>\n",
       "</table>\n",
       "</div>"
      ],
      "text/plain": [
       "              avg_oil  oil_lags1  oil_lags2  oil_lags3  wd  dofw_1  dofw_2  \\\n",
       "2013-01-13  93.284286  93.284286  93.284286  93.218571   0       0       0   \n",
       "2013-01-14  93.470000  93.284286  93.284286  93.284286   1       0       0   \n",
       "2013-01-15  93.490000  93.470000  93.284286  93.284286   1       1       0   \n",
       "2013-01-16  93.644286  93.490000  93.470000  93.284286   1       0       1   \n",
       "2013-01-17  93.970000  93.644286  93.490000  93.470000   1       0       0   \n",
       "\n",
       "            dofw_3  dofw_4  dofw_5  dofw_6  type_Additional  type_Bridge  \\\n",
       "2013-01-13       0       0       0       1                0            0   \n",
       "2013-01-14       0       0       0       0                0            0   \n",
       "2013-01-15       0       0       0       0                0            0   \n",
       "2013-01-16       0       0       0       0                0            0   \n",
       "2013-01-17       1       0       0       0                0            0   \n",
       "\n",
       "            type_Event  type_Holiday  type_Transfer  type_Work Day  \n",
       "2013-01-13           0             0              0              0  \n",
       "2013-01-14           0             0              0              0  \n",
       "2013-01-15           0             0              0              0  \n",
       "2013-01-16           0             0              0              0  \n",
       "2013-01-17           0             0              0              0  "
      ]
     },
     "execution_count": 75,
     "metadata": {},
     "output_type": "execute_result"
    }
   ],
   "source": [
    "print(calendar.shape)\n",
    "calendar.head()"
   ]
  },
  {
   "cell_type": "markdown",
   "id": "4eff6755-6073-4f25-b6b0-9427ccccd851",
   "metadata": {},
   "source": [
    "### Time dependent features"
   ]
  },
  {
   "cell_type": "code",
   "execution_count": 77,
   "id": "29c640cd-fd3e-480d-b714-435ae75b02fe",
   "metadata": {},
   "outputs": [],
   "source": [
    "calendar['wageday']=0\n",
    "calendar.loc[(calendar.index.to_timestamp().is_month_end) | (calendar.index.day == 15), 'wageday'] = 1"
   ]
  },
  {
   "cell_type": "code",
   "execution_count": 78,
   "id": "90b0a7b3-6d90-4e8e-9a31-de71fd9f4ebc",
   "metadata": {},
   "outputs": [
    {
     "data": {
      "text/html": [
       "<div>\n",
       "<style scoped>\n",
       "    .dataframe tbody tr th:only-of-type {\n",
       "        vertical-align: middle;\n",
       "    }\n",
       "\n",
       "    .dataframe tbody tr th {\n",
       "        vertical-align: top;\n",
       "    }\n",
       "\n",
       "    .dataframe thead th {\n",
       "        text-align: right;\n",
       "    }\n",
       "</style>\n",
       "<table border=\"1\" class=\"dataframe\">\n",
       "  <thead>\n",
       "    <tr style=\"text-align: right;\">\n",
       "      <th></th>\n",
       "      <th>avg_oil</th>\n",
       "      <th>oil_lags1</th>\n",
       "      <th>oil_lags2</th>\n",
       "      <th>oil_lags3</th>\n",
       "      <th>wd</th>\n",
       "      <th>dofw_1</th>\n",
       "      <th>dofw_2</th>\n",
       "      <th>dofw_3</th>\n",
       "      <th>dofw_4</th>\n",
       "      <th>dofw_5</th>\n",
       "      <th>dofw_6</th>\n",
       "      <th>type_Additional</th>\n",
       "      <th>type_Bridge</th>\n",
       "      <th>type_Event</th>\n",
       "      <th>type_Holiday</th>\n",
       "      <th>type_Transfer</th>\n",
       "      <th>type_Work Day</th>\n",
       "      <th>wageday</th>\n",
       "    </tr>\n",
       "  </thead>\n",
       "  <tbody>\n",
       "    <tr>\n",
       "      <th>2013-01-13</th>\n",
       "      <td>93.284286</td>\n",
       "      <td>93.284286</td>\n",
       "      <td>93.284286</td>\n",
       "      <td>93.218571</td>\n",
       "      <td>0</td>\n",
       "      <td>0</td>\n",
       "      <td>0</td>\n",
       "      <td>0</td>\n",
       "      <td>0</td>\n",
       "      <td>0</td>\n",
       "      <td>1</td>\n",
       "      <td>0</td>\n",
       "      <td>0</td>\n",
       "      <td>0</td>\n",
       "      <td>0</td>\n",
       "      <td>0</td>\n",
       "      <td>0</td>\n",
       "      <td>0</td>\n",
       "    </tr>\n",
       "    <tr>\n",
       "      <th>2013-01-14</th>\n",
       "      <td>93.470000</td>\n",
       "      <td>93.284286</td>\n",
       "      <td>93.284286</td>\n",
       "      <td>93.284286</td>\n",
       "      <td>1</td>\n",
       "      <td>0</td>\n",
       "      <td>0</td>\n",
       "      <td>0</td>\n",
       "      <td>0</td>\n",
       "      <td>0</td>\n",
       "      <td>0</td>\n",
       "      <td>0</td>\n",
       "      <td>0</td>\n",
       "      <td>0</td>\n",
       "      <td>0</td>\n",
       "      <td>0</td>\n",
       "      <td>0</td>\n",
       "      <td>0</td>\n",
       "    </tr>\n",
       "    <tr>\n",
       "      <th>2013-01-15</th>\n",
       "      <td>93.490000</td>\n",
       "      <td>93.470000</td>\n",
       "      <td>93.284286</td>\n",
       "      <td>93.284286</td>\n",
       "      <td>1</td>\n",
       "      <td>1</td>\n",
       "      <td>0</td>\n",
       "      <td>0</td>\n",
       "      <td>0</td>\n",
       "      <td>0</td>\n",
       "      <td>0</td>\n",
       "      <td>0</td>\n",
       "      <td>0</td>\n",
       "      <td>0</td>\n",
       "      <td>0</td>\n",
       "      <td>0</td>\n",
       "      <td>0</td>\n",
       "      <td>1</td>\n",
       "    </tr>\n",
       "    <tr>\n",
       "      <th>2013-01-16</th>\n",
       "      <td>93.644286</td>\n",
       "      <td>93.490000</td>\n",
       "      <td>93.470000</td>\n",
       "      <td>93.284286</td>\n",
       "      <td>1</td>\n",
       "      <td>0</td>\n",
       "      <td>1</td>\n",
       "      <td>0</td>\n",
       "      <td>0</td>\n",
       "      <td>0</td>\n",
       "      <td>0</td>\n",
       "      <td>0</td>\n",
       "      <td>0</td>\n",
       "      <td>0</td>\n",
       "      <td>0</td>\n",
       "      <td>0</td>\n",
       "      <td>0</td>\n",
       "      <td>0</td>\n",
       "    </tr>\n",
       "    <tr>\n",
       "      <th>2013-01-17</th>\n",
       "      <td>93.970000</td>\n",
       "      <td>93.644286</td>\n",
       "      <td>93.490000</td>\n",
       "      <td>93.470000</td>\n",
       "      <td>1</td>\n",
       "      <td>0</td>\n",
       "      <td>0</td>\n",
       "      <td>1</td>\n",
       "      <td>0</td>\n",
       "      <td>0</td>\n",
       "      <td>0</td>\n",
       "      <td>0</td>\n",
       "      <td>0</td>\n",
       "      <td>0</td>\n",
       "      <td>0</td>\n",
       "      <td>0</td>\n",
       "      <td>0</td>\n",
       "      <td>0</td>\n",
       "    </tr>\n",
       "  </tbody>\n",
       "</table>\n",
       "</div>"
      ],
      "text/plain": [
       "              avg_oil  oil_lags1  oil_lags2  oil_lags3  wd  dofw_1  dofw_2  \\\n",
       "2013-01-13  93.284286  93.284286  93.284286  93.218571   0       0       0   \n",
       "2013-01-14  93.470000  93.284286  93.284286  93.284286   1       0       0   \n",
       "2013-01-15  93.490000  93.470000  93.284286  93.284286   1       1       0   \n",
       "2013-01-16  93.644286  93.490000  93.470000  93.284286   1       0       1   \n",
       "2013-01-17  93.970000  93.644286  93.490000  93.470000   1       0       0   \n",
       "\n",
       "            dofw_3  dofw_4  dofw_5  dofw_6  type_Additional  type_Bridge  \\\n",
       "2013-01-13       0       0       0       1                0            0   \n",
       "2013-01-14       0       0       0       0                0            0   \n",
       "2013-01-15       0       0       0       0                0            0   \n",
       "2013-01-16       0       0       0       0                0            0   \n",
       "2013-01-17       1       0       0       0                0            0   \n",
       "\n",
       "            type_Event  type_Holiday  type_Transfer  type_Work Day  wageday  \n",
       "2013-01-13           0             0              0              0        0  \n",
       "2013-01-14           0             0              0              0        0  \n",
       "2013-01-15           0             0              0              0        1  \n",
       "2013-01-16           0             0              0              0        0  \n",
       "2013-01-17           0             0              0              0        0  "
      ]
     },
     "execution_count": 78,
     "metadata": {},
     "output_type": "execute_result"
    }
   ],
   "source": [
    "calendar.head()"
   ]
  },
  {
   "cell_type": "code",
   "execution_count": 80,
   "id": "3ec7e54b-73da-4bab-881e-3391ef0f602c",
   "metadata": {},
   "outputs": [
    {
     "data": {
      "image/png": "[encoded data removed]",
      "text/plain": [
       "<Figure size 1440x288 with 1 Axes>"
      ]
     },
     "metadata": {
      "needs_background": "light"
     },
     "output_type": "display_data"
    }
   ],
   "source": [
    "ax = plt.subplots(1,1,figsize = (20,4))\n",
    "train.loc[\"2016-07-01\":].filter(like = 'SCHOOL AND OFFICE SUPPLIES', axis=0).groupby([\"date\"])['sales'].sum().plot(title = \"SCHOOL AND OFFICE SUPPLIES\")\n",
    "plt.show()"
   ]
  },
  {
   "cell_type": "code",
   "execution_count": 81,
   "id": "11e32de4-15f0-41d9-aae0-5c84e92226d3",
   "metadata": {},
   "outputs": [],
   "source": [
    "school_season = []\n",
    "for i, r in calendar.iterrows():\n",
    "    if i.month in [4, 5, 8, 9] :\n",
    "        school_season.append(1)\n",
    "    else :\n",
    "        school_season.append(0)\n",
    "calendar['school_season'] = school_season"
   ]
  },
  {
   "cell_type": "markdown",
   "id": "bab3bfa3-eef2-44e7-ab8c-92ba7088e89f",
   "metadata": {},
   "source": [
    "### Zero forecasting"
   ]
  },
  {
   "cell_type": "code",
   "execution_count": 82,
   "id": "23c6b16f-302b-4e4c-bcb7-817fb0b415fd",
   "metadata": {},
   "outputs": [],
   "source": [
    "c = train.groupby([\"store_nbr\",\"family\"]).tail(15).groupby([\"store_nbr\",\"family\"])['sales'].sum().reset_index()"
   ]
  },
  {
   "cell_type": "code",
   "execution_count": 83,
   "id": "0d8a47f0-01ec-4804-8e3c-1cd2537fde96",
   "metadata": {},
   "outputs": [],
   "source": [
    "c = c[c['sales'] == 0].drop('sales', axis = 1)"
   ]
  },
  {
   "cell_type": "code",
   "execution_count": 84,
   "id": "7e9abdf4-4df7-4ecb-922d-dd3e690384bf",
   "metadata": {},
   "outputs": [],
   "source": [
    "c = c[c.family != \"SCHOOL AND OFFICE SUPPLIES\"]"
   ]
  },
  {
   "cell_type": "code",
   "execution_count": 85,
   "id": "b3287b9e-9d16-4b1e-873c-3d977b34ff9a",
   "metadata": {},
   "outputs": [
    {
     "data": {
      "text/plain": [
       "(124, 2)"
      ]
     },
     "execution_count": 85,
     "metadata": {},
     "output_type": "execute_result"
    }
   ],
   "source": [
    "c.shape"
   ]
  },
  {
   "cell_type": "code",
   "execution_count": 86,
   "id": "c7ad18fd-3f21-453d-947a-a6d9bde1d283",
   "metadata": {},
   "outputs": [
    {
     "data": {
      "text/html": [
       "<div>\n",
       "<style scoped>\n",
       "    .dataframe tbody tr th:only-of-type {\n",
       "        vertical-align: middle;\n",
       "    }\n",
       "\n",
       "    .dataframe tbody tr th {\n",
       "        vertical-align: top;\n",
       "    }\n",
       "\n",
       "    .dataframe thead th {\n",
       "        text-align: right;\n",
       "    }\n",
       "</style>\n",
       "<table border=\"1\" class=\"dataframe\">\n",
       "  <thead>\n",
       "    <tr style=\"text-align: right;\">\n",
       "      <th></th>\n",
       "      <th>store_nbr</th>\n",
       "      <th>family</th>\n",
       "    </tr>\n",
       "  </thead>\n",
       "  <tbody>\n",
       "    <tr>\n",
       "      <th>1</th>\n",
       "      <td>1</td>\n",
       "      <td>BABY CARE</td>\n",
       "    </tr>\n",
       "    <tr>\n",
       "      <th>4</th>\n",
       "      <td>1</td>\n",
       "      <td>BOOKS</td>\n",
       "    </tr>\n",
       "    <tr>\n",
       "      <th>17</th>\n",
       "      <td>1</td>\n",
       "      <td>HOME APPLIANCES</td>\n",
       "    </tr>\n",
       "    <tr>\n",
       "      <th>34</th>\n",
       "      <td>10</td>\n",
       "      <td>BABY CARE</td>\n",
       "    </tr>\n",
       "    <tr>\n",
       "      <th>37</th>\n",
       "      <td>10</td>\n",
       "      <td>BOOKS</td>\n",
       "    </tr>\n",
       "  </tbody>\n",
       "</table>\n",
       "</div>"
      ],
      "text/plain": [
       "   store_nbr           family\n",
       "1          1        BABY CARE\n",
       "4          1            BOOKS\n",
       "17         1  HOME APPLIANCES\n",
       "34        10        BABY CARE\n",
       "37        10            BOOKS"
      ]
     },
     "execution_count": 86,
     "metadata": {},
     "output_type": "execute_result"
    }
   ],
   "source": [
    "c.head()"
   ]
  },
  {
   "cell_type": "code",
   "execution_count": 87,
   "id": "d5d52f28-3d6f-4cd8-aea9-0b4d41c0e1d7",
   "metadata": {},
   "outputs": [
    {
     "name": "stdout",
     "output_type": "stream",
     "text": [
      "Shape of train before zero forecasting: (3000888, 1)\n"
     ]
    }
   ],
   "source": [
    "print(\"Shape of train before zero forecasting:\", train.shape)"
   ]
  },
  {
   "cell_type": "code",
   "execution_count": 89,
   "id": "f3be0701-2f94-4339-9c61-cde12b82b4ee",
   "metadata": {},
   "outputs": [],
   "source": [
    "outer_join = train.reset_index().merge(c, how = 'outer', indicator = True)"
   ]
  },
  {
   "cell_type": "code",
   "execution_count": 90,
   "id": "4c4d93b7-f13e-48d9-88aa-48abe85e3573",
   "metadata": {},
   "outputs": [],
   "source": [
    "train = outer_join[~(outer_join['_merge'] == 'both')].drop('_merge', axis = 1) # anti join"
   ]
  },
  {
   "cell_type": "code",
   "execution_count": 91,
   "id": "f76c2b4a-31c8-4ebe-9382-16fc3b9e526f",
   "metadata": {},
   "outputs": [],
   "source": [
    "train = train.set_index(['date', 'store_nbr', 'family']).sort_index()"
   ]
  },
  {
   "cell_type": "code",
   "execution_count": 92,
   "id": "6dcd6807-c711-48a6-ab23-5a603a75b69f",
   "metadata": {},
   "outputs": [],
   "source": [
    "del outer_join"
   ]
  },
  {
   "cell_type": "code",
   "execution_count": 93,
   "id": "7f9a6a1f-ff1f-428b-b73f-0a424f4bf3c0",
   "metadata": {},
   "outputs": [
    {
     "name": "stdout",
     "output_type": "stream",
     "text": [
      "Shape of train after zero forecasting: (2792072, 1)\n"
     ]
    }
   ],
   "source": [
    "gc.collect()\n",
    "print(\"Shape of train after zero forecasting:\", train.shape)"
   ]
  },
  {
   "cell_type": "code",
   "execution_count": 95,
   "id": "c68ac982-f478-40d9-ab40-395dad0e2dff",
   "metadata": {},
   "outputs": [],
   "source": [
    "zero_prediction = []\n",
    "\n",
    "for i in range(0, len(c)):\n",
    "    zero_prediction.append(\n",
    "        pd.DataFrame({\n",
    "            \"date\":pd.date_range(\"2017-08-16\", \"2017-08-31\").tolist(),\n",
    "            \"store_nbr\":c.store_nbr.iloc[i],\n",
    "            \"family\":c.family.iloc[i],\n",
    "            \"sales\":0\n",
    "        })\n",
    "    )"
   ]
  },
  {
   "cell_type": "code",
   "execution_count": 96,
   "id": "0a0efbcd-22da-41b9-aeae-b5c36729a49f",
   "metadata": {},
   "outputs": [],
   "source": [
    "zero_prediction = pd.concat(zero_prediction)"
   ]
  },
  {
   "cell_type": "code",
   "execution_count": 97,
   "id": "113e6bf4-e498-4857-9afe-78a6bc166be8",
   "metadata": {},
   "outputs": [
    {
     "data": {
      "text/html": [
       "<div>\n",
       "<style scoped>\n",
       "    .dataframe tbody tr th:only-of-type {\n",
       "        vertical-align: middle;\n",
       "    }\n",
       "\n",
       "    .dataframe tbody tr th {\n",
       "        vertical-align: top;\n",
       "    }\n",
       "\n",
       "    .dataframe thead th {\n",
       "        text-align: right;\n",
       "    }\n",
       "</style>\n",
       "<table border=\"1\" class=\"dataframe\">\n",
       "  <thead>\n",
       "    <tr style=\"text-align: right;\">\n",
       "      <th></th>\n",
       "      <th>date</th>\n",
       "      <th>store_nbr</th>\n",
       "      <th>family</th>\n",
       "      <th>sales</th>\n",
       "    </tr>\n",
       "  </thead>\n",
       "  <tbody>\n",
       "    <tr>\n",
       "      <th>0</th>\n",
       "      <td>2017-08-16</td>\n",
       "      <td>1</td>\n",
       "      <td>BABY CARE</td>\n",
       "      <td>0</td>\n",
       "    </tr>\n",
       "    <tr>\n",
       "      <th>1</th>\n",
       "      <td>2017-08-17</td>\n",
       "      <td>1</td>\n",
       "      <td>BABY CARE</td>\n",
       "      <td>0</td>\n",
       "    </tr>\n",
       "    <tr>\n",
       "      <th>2</th>\n",
       "      <td>2017-08-18</td>\n",
       "      <td>1</td>\n",
       "      <td>BABY CARE</td>\n",
       "      <td>0</td>\n",
       "    </tr>\n",
       "    <tr>\n",
       "      <th>3</th>\n",
       "      <td>2017-08-19</td>\n",
       "      <td>1</td>\n",
       "      <td>BABY CARE</td>\n",
       "      <td>0</td>\n",
       "    </tr>\n",
       "    <tr>\n",
       "      <th>4</th>\n",
       "      <td>2017-08-20</td>\n",
       "      <td>1</td>\n",
       "      <td>BABY CARE</td>\n",
       "      <td>0</td>\n",
       "    </tr>\n",
       "  </tbody>\n",
       "</table>\n",
       "</div>"
      ],
      "text/plain": [
       "        date store_nbr     family  sales\n",
       "0 2017-08-16         1  BABY CARE      0\n",
       "1 2017-08-17         1  BABY CARE      0\n",
       "2 2017-08-18         1  BABY CARE      0\n",
       "3 2017-08-19         1  BABY CARE      0\n",
       "4 2017-08-20         1  BABY CARE      0"
      ]
     },
     "execution_count": 97,
     "metadata": {},
     "output_type": "execute_result"
    }
   ],
   "source": [
    "zero_prediction.head()"
   ]
  },
  {
   "cell_type": "code",
   "execution_count": 98,
   "id": "7e380b0c-2506-43cc-b341-9bcdda083a20",
   "metadata": {},
   "outputs": [],
   "source": [
    "zero_prediction['date'] = zero_prediction.date.dt.to_period('D')"
   ]
  },
  {
   "cell_type": "code",
   "execution_count": 99,
   "id": "ed026afb-fdae-4381-b832-e8e3b6ed6b03",
   "metadata": {},
   "outputs": [],
   "source": [
    "del c"
   ]
  },
  {
   "cell_type": "code",
   "execution_count": 100,
   "id": "ae6cdd31-9eed-4216-98e7-e09b4c017913",
   "metadata": {},
   "outputs": [
    {
     "data": {
      "text/plain": [
       "42"
      ]
     },
     "execution_count": 100,
     "metadata": {},
     "output_type": "execute_result"
    }
   ],
   "source": [
    "gc.collect()"
   ]
  },
  {
   "cell_type": "code",
   "execution_count": 101,
   "id": "736de1ac-4120-4ac0-8533-3ecbf9628750",
   "metadata": {},
   "outputs": [
    {
     "data": {
      "text/html": [
       "<div>\n",
       "<style scoped>\n",
       "    .dataframe tbody tr th:only-of-type {\n",
       "        vertical-align: middle;\n",
       "    }\n",
       "\n",
       "    .dataframe tbody tr th {\n",
       "        vertical-align: top;\n",
       "    }\n",
       "\n",
       "    .dataframe thead th {\n",
       "        text-align: right;\n",
       "    }\n",
       "</style>\n",
       "<table border=\"1\" class=\"dataframe\">\n",
       "  <thead>\n",
       "    <tr style=\"text-align: right;\">\n",
       "      <th></th>\n",
       "      <th></th>\n",
       "      <th></th>\n",
       "      <th>sales</th>\n",
       "    </tr>\n",
       "    <tr>\n",
       "      <th>date</th>\n",
       "      <th>store_nbr</th>\n",
       "      <th>family</th>\n",
       "      <th></th>\n",
       "    </tr>\n",
       "  </thead>\n",
       "  <tbody>\n",
       "    <tr>\n",
       "      <th>2017-08-16</th>\n",
       "      <th>1</th>\n",
       "      <th>BABY CARE</th>\n",
       "      <td>0</td>\n",
       "    </tr>\n",
       "    <tr>\n",
       "      <th>2017-08-17</th>\n",
       "      <th>1</th>\n",
       "      <th>BABY CARE</th>\n",
       "      <td>0</td>\n",
       "    </tr>\n",
       "    <tr>\n",
       "      <th>2017-08-18</th>\n",
       "      <th>1</th>\n",
       "      <th>BABY CARE</th>\n",
       "      <td>0</td>\n",
       "    </tr>\n",
       "    <tr>\n",
       "      <th>2017-08-19</th>\n",
       "      <th>1</th>\n",
       "      <th>BABY CARE</th>\n",
       "      <td>0</td>\n",
       "    </tr>\n",
       "    <tr>\n",
       "      <th>2017-08-20</th>\n",
       "      <th>1</th>\n",
       "      <th>BABY CARE</th>\n",
       "      <td>0</td>\n",
       "    </tr>\n",
       "  </tbody>\n",
       "</table>\n",
       "</div>"
      ],
      "text/plain": [
       "                                sales\n",
       "date       store_nbr family          \n",
       "2017-08-16 1         BABY CARE      0\n",
       "2017-08-17 1         BABY CARE      0\n",
       "2017-08-18 1         BABY CARE      0\n",
       "2017-08-19 1         BABY CARE      0\n",
       "2017-08-20 1         BABY CARE      0"
      ]
     },
     "execution_count": 101,
     "metadata": {},
     "output_type": "execute_result"
    }
   ],
   "source": [
    "zero_prediction = zero_prediction.set_index(['date', 'store_nbr', 'family'])\n",
    "zero_prediction.head()"
   ]
  },
  {
   "cell_type": "code",
   "execution_count": 102,
   "id": "9cdb0fd2-40ea-4523-a307-b544efae8209",
   "metadata": {},
   "outputs": [
    {
     "data": {
      "text/html": [
       "<div>\n",
       "<style scoped>\n",
       "    .dataframe tbody tr th:only-of-type {\n",
       "        vertical-align: middle;\n",
       "    }\n",
       "\n",
       "    .dataframe tbody tr th {\n",
       "        vertical-align: top;\n",
       "    }\n",
       "\n",
       "    .dataframe thead th {\n",
       "        text-align: right;\n",
       "    }\n",
       "</style>\n",
       "<table border=\"1\" class=\"dataframe\">\n",
       "  <thead>\n",
       "    <tr style=\"text-align: right;\">\n",
       "      <th></th>\n",
       "      <th></th>\n",
       "      <th></th>\n",
       "      <th>sales</th>\n",
       "    </tr>\n",
       "    <tr>\n",
       "      <th>date</th>\n",
       "      <th>store_nbr</th>\n",
       "      <th>family</th>\n",
       "      <th></th>\n",
       "    </tr>\n",
       "  </thead>\n",
       "  <tbody>\n",
       "    <tr>\n",
       "      <th>2017-08-16</th>\n",
       "      <th>1</th>\n",
       "      <th>BABY CARE</th>\n",
       "      <td>0</td>\n",
       "    </tr>\n",
       "    <tr>\n",
       "      <th>2017-08-17</th>\n",
       "      <th>1</th>\n",
       "      <th>BABY CARE</th>\n",
       "      <td>0</td>\n",
       "    </tr>\n",
       "    <tr>\n",
       "      <th>2017-08-18</th>\n",
       "      <th>1</th>\n",
       "      <th>BABY CARE</th>\n",
       "      <td>0</td>\n",
       "    </tr>\n",
       "    <tr>\n",
       "      <th>2017-08-19</th>\n",
       "      <th>1</th>\n",
       "      <th>BABY CARE</th>\n",
       "      <td>0</td>\n",
       "    </tr>\n",
       "    <tr>\n",
       "      <th>2017-08-20</th>\n",
       "      <th>1</th>\n",
       "      <th>BABY CARE</th>\n",
       "      <td>0</td>\n",
       "    </tr>\n",
       "    <tr>\n",
       "      <th>...</th>\n",
       "      <th>...</th>\n",
       "      <th>...</th>\n",
       "      <td>...</td>\n",
       "    </tr>\n",
       "    <tr>\n",
       "      <th>2017-08-27</th>\n",
       "      <th>9</th>\n",
       "      <th>HOME APPLIANCES</th>\n",
       "      <td>0</td>\n",
       "    </tr>\n",
       "    <tr>\n",
       "      <th>2017-08-28</th>\n",
       "      <th>9</th>\n",
       "      <th>HOME APPLIANCES</th>\n",
       "      <td>0</td>\n",
       "    </tr>\n",
       "    <tr>\n",
       "      <th>2017-08-29</th>\n",
       "      <th>9</th>\n",
       "      <th>HOME APPLIANCES</th>\n",
       "      <td>0</td>\n",
       "    </tr>\n",
       "    <tr>\n",
       "      <th>2017-08-30</th>\n",
       "      <th>9</th>\n",
       "      <th>HOME APPLIANCES</th>\n",
       "      <td>0</td>\n",
       "    </tr>\n",
       "    <tr>\n",
       "      <th>2017-08-31</th>\n",
       "      <th>9</th>\n",
       "      <th>HOME APPLIANCES</th>\n",
       "      <td>0</td>\n",
       "    </tr>\n",
       "  </tbody>\n",
       "</table>\n",
       "<p>1984 rows × 1 columns</p>\n",
       "</div>"
      ],
      "text/plain": [
       "                                      sales\n",
       "date       store_nbr family                \n",
       "2017-08-16 1         BABY CARE            0\n",
       "2017-08-17 1         BABY CARE            0\n",
       "2017-08-18 1         BABY CARE            0\n",
       "2017-08-19 1         BABY CARE            0\n",
       "2017-08-20 1         BABY CARE            0\n",
       "...                                     ...\n",
       "2017-08-27 9         HOME APPLIANCES      0\n",
       "2017-08-28 9         HOME APPLIANCES      0\n",
       "2017-08-29 9         HOME APPLIANCES      0\n",
       "2017-08-30 9         HOME APPLIANCES      0\n",
       "2017-08-31 9         HOME APPLIANCES      0\n",
       "\n",
       "[1984 rows x 1 columns]"
      ]
     },
     "execution_count": 102,
     "metadata": {},
     "output_type": "execute_result"
    }
   ],
   "source": [
    "zero_prediction"
   ]
  },
  {
   "cell_type": "code",
   "execution_count": 109,
   "id": "a9e7614d-913b-43d1-a954-73f95ce83429",
   "metadata": {},
   "outputs": [],
   "source": [
    "a = train.groupby([\"date\",\"store_nbr\"]).sum().reset_index()"
   ]
  },
  {
   "cell_type": "code",
   "execution_count": 110,
   "id": "13cf2a73-094a-4db7-a24a-c2b256647f73",
   "metadata": {},
   "outputs": [],
   "source": [
    "a = a[a[\"sales\"] > 0].groupby(\"store_nbr\")[[\"date\"]].min().sort_values(by=\"date\",ascending = False).head(5)"
   ]
  },
  {
   "cell_type": "code",
   "execution_count": 111,
   "id": "dd337436-1d2b-4874-bd72-c760da8a4635",
   "metadata": {},
   "outputs": [
    {
     "data": {
      "text/html": [
       "<div>\n",
       "<style scoped>\n",
       "    .dataframe tbody tr th:only-of-type {\n",
       "        vertical-align: middle;\n",
       "    }\n",
       "\n",
       "    .dataframe tbody tr th {\n",
       "        vertical-align: top;\n",
       "    }\n",
       "\n",
       "    .dataframe thead th {\n",
       "        text-align: right;\n",
       "    }\n",
       "</style>\n",
       "<table border=\"1\" class=\"dataframe\">\n",
       "  <thead>\n",
       "    <tr style=\"text-align: right;\">\n",
       "      <th></th>\n",
       "      <th>date</th>\n",
       "    </tr>\n",
       "    <tr>\n",
       "      <th>store_nbr</th>\n",
       "      <th></th>\n",
       "    </tr>\n",
       "  </thead>\n",
       "  <tbody>\n",
       "    <tr>\n",
       "      <th>52</th>\n",
       "      <td>2017-04-20</td>\n",
       "    </tr>\n",
       "    <tr>\n",
       "      <th>22</th>\n",
       "      <td>2015-10-09</td>\n",
       "    </tr>\n",
       "    <tr>\n",
       "      <th>42</th>\n",
       "      <td>2015-08-21</td>\n",
       "    </tr>\n",
       "    <tr>\n",
       "      <th>21</th>\n",
       "      <td>2015-07-24</td>\n",
       "    </tr>\n",
       "    <tr>\n",
       "      <th>29</th>\n",
       "      <td>2015-03-20</td>\n",
       "    </tr>\n",
       "  </tbody>\n",
       "</table>\n",
       "</div>"
      ],
      "text/plain": [
       "                 date\n",
       "store_nbr            \n",
       "52         2017-04-20\n",
       "22         2015-10-09\n",
       "42         2015-08-21\n",
       "21         2015-07-24\n",
       "29         2015-03-20"
      ]
     },
     "execution_count": 111,
     "metadata": {},
     "output_type": "execute_result"
    }
   ],
   "source": [
    "a.head()"
   ]
  },
  {
   "cell_type": "code",
   "execution_count": 112,
   "id": "2018648a-31cf-463b-bfff-3d729c3259b1",
   "metadata": {},
   "outputs": [],
   "source": [
    "y = train.unstack(['store_nbr', 'family']).loc[\"2017-04-21\":]"
   ]
  },
  {
   "cell_type": "code",
   "execution_count": 116,
   "id": "24d07227-dbbe-4554-a364-e6cb24b18712",
   "metadata": {},
   "outputs": [],
   "source": [
    "fourier = CalendarFourier(freq = 'W', order = 3)"
   ]
  },
  {
   "cell_type": "code",
   "execution_count": 117,
   "id": "ed4e7958-4a94-4b97-a40b-7b19d66528e0",
   "metadata": {},
   "outputs": [],
   "source": [
    "dp = DeterministicProcess(index = y.index,\n",
    "                          order = 1,\n",
    "                          seasonal = False,\n",
    "                          constant = False,\n",
    "                          additional_terms = [fourier],\n",
    "                          drop = True)"
   ]
  },
  {
   "cell_type": "code",
   "execution_count": 118,
   "id": "7787e93a-84dd-4812-9b93-9cb95fa87aa0",
   "metadata": {},
   "outputs": [],
   "source": [
    "x = dp.in_sample()"
   ]
  },
  {
   "cell_type": "code",
   "execution_count": 120,
   "id": "72833ac8-06ec-4d78-ad0b-2cd082f19485",
   "metadata": {},
   "outputs": [],
   "source": [
    "x = x.join(calendar)\n",
    "x.index.name = \"date\""
   ]
  },
  {
   "cell_type": "code",
   "execution_count": 122,
   "id": "8b15b3e5-c485-4cb3-be37-1d572bde6bd4",
   "metadata": {},
   "outputs": [],
   "source": [
    "xtest = dp.out_of_sample(steps = 16) \n",
    "xtest = xtest.join(calendar)\n",
    "xtest.index.name = \"date\""
   ]
  },
  {
   "cell_type": "code",
   "execution_count": 123,
   "id": "47b02c0a-74b0-4a7b-9562-ccf714787be0",
   "metadata": {},
   "outputs": [],
   "source": [
    "del hol\n",
    "del calendar\n",
    "del dp\n",
    "del oil\n",
    "_ = gc.collect()"
   ]
  },
  {
   "cell_type": "markdown",
   "id": "48c5cf4d-b95e-40de-a7fe-eec431a4c1fd",
   "metadata": {},
   "source": [
    "## Quick analysis of Multivariate TSD"
   ]
  },
  {
   "cell_type": "code",
   "execution_count": null,
   "id": "dc2d5eb9-c6ba-40e9-bf31-109c95f73922",
   "metadata": {},
   "outputs": [],
   "source": []
  }
 ],
 "metadata": {
  "kernelspec": {
   "display_name": "dylan",
   "language": "python",
   "name": "dylan"
  },
  "language_info": {
   "codemirror_mode": {
    "name": "ipython",
    "version": 3
   },
   "file_extension": ".py",
   "mimetype": "text/x-python",
   "name": "python",
   "nbconvert_exporter": "python",
   "pygments_lexer": "ipython3",
   "version": "3.8.13"
  }
 },
 "nbformat": 4,
 "nbformat_minor": 5
}
